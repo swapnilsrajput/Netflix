{
  "cells": [
    {
      "cell_type": "markdown",
      "id": "6a56f7a6",
      "metadata": {
        "id": "6a56f7a6"
      },
      "source": [
        "# Business Problem:\n",
        "Analyze the data and generate insights that could help Netflix in deciding which type of shows/movies to produce and how they can grow the business in different countries"
      ]
    },
    {
      "cell_type": "markdown",
      "id": "a1cb46ea",
      "metadata": {
        "id": "a1cb46ea"
      },
      "source": [
        "# Questions -\n",
        "\n",
        "1. What type of content is available in different countries?\n",
        "2. How has the number of movies released per year changed over the last 20-30 years?\n",
        "3. Comparison of tv shows vs. movies.\n",
        "4. What is the best time to launch a TV show?\n",
        "5. Analysis of actors/directors of different types of shows/movies.\n",
        "6. Does Netflix has more focus on TV Shows than movies in recent years\n",
        "7. Understanding what content is available in different countries"
      ]
    },
    {
      "cell_type": "markdown",
      "id": "c8807a2c",
      "metadata": {
        "id": "c8807a2c"
      },
      "source": [
        "# Data Description -\n",
        "Data contains all the movie and TV shows added to the netflix database from 2008 onwards till 2021. These movies & TV shows were relased 1925 onwards till 2021. Some of the columns has missing information or has multiple names, genres listed, so data cleaning is mandatory."
      ]
    },
    {
      "cell_type": "markdown",
      "id": "84c6b7b9",
      "metadata": {
        "id": "84c6b7b9"
      },
      "source": [
        "# Existing data details and Summary\n",
        "- number of Rows - 8807\n",
        "- number of Columns - 12\n",
        "- based on release dates, data ranges from 1925 - 2021 which was added in the netflix database 01/01/2008 - 09/25/2021.\n",
        "- Columns list - ['show_id', 'type', 'title', 'director', 'cast', 'country', 'date_added', 'release_year', 'rating', >> 'duration', number of 'listed_in', 'description']\n",
        "- Nuls present in -\n",
        "    Column Name     Count    Percentage\n",
        "    director        2634     29.908028\n",
        "    cast             825     9.367549\n",
        "    country          831     9.435676\n",
        "    date_added        10     0.113546\n",
        "    rating             4     0.045418\n",
        "    duration           3     0.034064\n",
        "- number of TV shows - 2676\n",
        "- number of Movies - 6131"
      ]
    },
    {
      "cell_type": "markdown",
      "id": "57bb5377",
      "metadata": {
        "id": "57bb5377"
      },
      "source": [
        "# Approach -\n",
        "- Reviwing the data received\n",
        "- Cleaning data to remove / replacing Nuls\n",
        "- Analysing Movie and TV shows separately and compare the both to get the final conclusion\n",
        "- Growing trend\n",
        "- Whether to make Movies or TV shows\n",
        "- Which is preferred genre and which types of genres need to be avoided\n",
        "- which casts can be used"
      ]
    },
    {
      "cell_type": "markdown",
      "id": "05bece9d",
      "metadata": {
        "id": "05bece9d"
      },
      "source": [
        "# Assumptions -\n",
        "Since there are no indicators to measure the popularity, certain assumptions are made to understand the overall trend eg. - total number of TV shows / movies realeased every year and then when it was added to the netflix."
      ]
    },
    {
      "cell_type": "markdown",
      "id": "b59fbb83",
      "metadata": {
        "id": "b59fbb83"
      },
      "source": [
        "# Data"
      ]
    },
    {
      "cell_type": "code",
      "execution_count": null,
      "id": "322d3ad7",
      "metadata": {
        "id": "322d3ad7"
      },
      "outputs": [],
      "source": [
        "import pandas as pd\n",
        "import numpy as np\n",
        "import matplotlib.pyplot as plt\n",
        "import seaborn as sns"
      ]
    },
    {
      "cell_type": "code",
      "execution_count": null,
      "id": "fef14705",
      "metadata": {
        "id": "fef14705",
        "outputId": "81791460-beb4-4275-b3de-accc38a5b8bb"
      },
      "outputs": [
        {
          "data": {
            "text/html": [
              "<div>\n",
              "<style scoped>\n",
              "    .dataframe tbody tr th:only-of-type {\n",
              "        vertical-align: middle;\n",
              "    }\n",
              "\n",
              "    .dataframe tbody tr th {\n",
              "        vertical-align: top;\n",
              "    }\n",
              "\n",
              "    .dataframe thead th {\n",
              "        text-align: right;\n",
              "    }\n",
              "</style>\n",
              "<table border=\"1\" class=\"dataframe\">\n",
              "  <thead>\n",
              "    <tr style=\"text-align: right;\">\n",
              "      <th></th>\n",
              "      <th>show_id</th>\n",
              "      <th>type</th>\n",
              "      <th>title</th>\n",
              "      <th>director</th>\n",
              "      <th>cast</th>\n",
              "      <th>country</th>\n",
              "      <th>date_added</th>\n",
              "      <th>release_year</th>\n",
              "      <th>rating</th>\n",
              "      <th>duration</th>\n",
              "      <th>listed_in</th>\n",
              "      <th>description</th>\n",
              "    </tr>\n",
              "  </thead>\n",
              "  <tbody>\n",
              "    <tr>\n",
              "      <th>0</th>\n",
              "      <td>s1</td>\n",
              "      <td>Movie</td>\n",
              "      <td>Dick Johnson Is Dead</td>\n",
              "      <td>Kirsten Johnson</td>\n",
              "      <td>NaN</td>\n",
              "      <td>United States</td>\n",
              "      <td>September 25, 2021</td>\n",
              "      <td>2020</td>\n",
              "      <td>PG-13</td>\n",
              "      <td>90 min</td>\n",
              "      <td>Documentaries</td>\n",
              "      <td>As her father nears the end of his life, filmm...</td>\n",
              "    </tr>\n",
              "    <tr>\n",
              "      <th>1</th>\n",
              "      <td>s2</td>\n",
              "      <td>TV Show</td>\n",
              "      <td>Blood &amp; Water</td>\n",
              "      <td>NaN</td>\n",
              "      <td>Ama Qamata, Khosi Ngema, Gail Mabalane, Thaban...</td>\n",
              "      <td>South Africa</td>\n",
              "      <td>September 24, 2021</td>\n",
              "      <td>2021</td>\n",
              "      <td>TV-MA</td>\n",
              "      <td>2 Seasons</td>\n",
              "      <td>International TV Shows, TV Dramas, TV Mysteries</td>\n",
              "      <td>After crossing paths at a party, a Cape Town t...</td>\n",
              "    </tr>\n",
              "    <tr>\n",
              "      <th>2</th>\n",
              "      <td>s3</td>\n",
              "      <td>TV Show</td>\n",
              "      <td>Ganglands</td>\n",
              "      <td>Julien Leclercq</td>\n",
              "      <td>Sami Bouajila, Tracy Gotoas, Samuel Jouy, Nabi...</td>\n",
              "      <td>NaN</td>\n",
              "      <td>September 24, 2021</td>\n",
              "      <td>2021</td>\n",
              "      <td>TV-MA</td>\n",
              "      <td>1 Season</td>\n",
              "      <td>Crime TV Shows, International TV Shows, TV Act...</td>\n",
              "      <td>To protect his family from a powerful drug lor...</td>\n",
              "    </tr>\n",
              "    <tr>\n",
              "      <th>3</th>\n",
              "      <td>s4</td>\n",
              "      <td>TV Show</td>\n",
              "      <td>Jailbirds New Orleans</td>\n",
              "      <td>NaN</td>\n",
              "      <td>NaN</td>\n",
              "      <td>NaN</td>\n",
              "      <td>September 24, 2021</td>\n",
              "      <td>2021</td>\n",
              "      <td>TV-MA</td>\n",
              "      <td>1 Season</td>\n",
              "      <td>Docuseries, Reality TV</td>\n",
              "      <td>Feuds, flirtations and toilet talk go down amo...</td>\n",
              "    </tr>\n",
              "    <tr>\n",
              "      <th>4</th>\n",
              "      <td>s5</td>\n",
              "      <td>TV Show</td>\n",
              "      <td>Kota Factory</td>\n",
              "      <td>NaN</td>\n",
              "      <td>Mayur More, Jitendra Kumar, Ranjan Raj, Alam K...</td>\n",
              "      <td>India</td>\n",
              "      <td>September 24, 2021</td>\n",
              "      <td>2021</td>\n",
              "      <td>TV-MA</td>\n",
              "      <td>2 Seasons</td>\n",
              "      <td>International TV Shows, Romantic TV Shows, TV ...</td>\n",
              "      <td>In a city of coaching centers known to train I...</td>\n",
              "    </tr>\n",
              "  </tbody>\n",
              "</table>\n",
              "</div>"
            ],
            "text/plain": [
              "  show_id     type                  title         director  \\\n",
              "0      s1    Movie   Dick Johnson Is Dead  Kirsten Johnson   \n",
              "1      s2  TV Show          Blood & Water              NaN   \n",
              "2      s3  TV Show              Ganglands  Julien Leclercq   \n",
              "3      s4  TV Show  Jailbirds New Orleans              NaN   \n",
              "4      s5  TV Show           Kota Factory              NaN   \n",
              "\n",
              "                                                cast        country  \\\n",
              "0                                                NaN  United States   \n",
              "1  Ama Qamata, Khosi Ngema, Gail Mabalane, Thaban...   South Africa   \n",
              "2  Sami Bouajila, Tracy Gotoas, Samuel Jouy, Nabi...            NaN   \n",
              "3                                                NaN            NaN   \n",
              "4  Mayur More, Jitendra Kumar, Ranjan Raj, Alam K...          India   \n",
              "\n",
              "           date_added  release_year rating   duration  \\\n",
              "0  September 25, 2021          2020  PG-13     90 min   \n",
              "1  September 24, 2021          2021  TV-MA  2 Seasons   \n",
              "2  September 24, 2021          2021  TV-MA   1 Season   \n",
              "3  September 24, 2021          2021  TV-MA   1 Season   \n",
              "4  September 24, 2021          2021  TV-MA  2 Seasons   \n",
              "\n",
              "                                           listed_in  \\\n",
              "0                                      Documentaries   \n",
              "1    International TV Shows, TV Dramas, TV Mysteries   \n",
              "2  Crime TV Shows, International TV Shows, TV Act...   \n",
              "3                             Docuseries, Reality TV   \n",
              "4  International TV Shows, Romantic TV Shows, TV ...   \n",
              "\n",
              "                                         description  \n",
              "0  As her father nears the end of his life, filmm...  \n",
              "1  After crossing paths at a party, a Cape Town t...  \n",
              "2  To protect his family from a powerful drug lor...  \n",
              "3  Feuds, flirtations and toilet talk go down amo...  \n",
              "4  In a city of coaching centers known to train I...  "
            ]
          },
          "execution_count": 405,
          "metadata": {},
          "output_type": "execute_result"
        }
      ],
      "source": [
        "df = pd.read_csv(\"netflix.csv\")\n",
        "df.head()"
      ]
    },
    {
      "cell_type": "code",
      "execution_count": null,
      "id": "a7935958",
      "metadata": {
        "id": "a7935958",
        "outputId": "942f728e-97fc-4eae-fa99-27cf2c0ee6dc"
      },
      "outputs": [
        {
          "name": "stdout",
          "output_type": "stream",
          "text": [
            "<class 'pandas.core.frame.DataFrame'>\n",
            "RangeIndex: 8807 entries, 0 to 8806\n",
            "Data columns (total 12 columns):\n",
            " #   Column        Non-Null Count  Dtype \n",
            "---  ------        --------------  ----- \n",
            " 0   show_id       8807 non-null   object\n",
            " 1   type          8807 non-null   object\n",
            " 2   title         8807 non-null   object\n",
            " 3   director      6173 non-null   object\n",
            " 4   cast          7982 non-null   object\n",
            " 5   country       7976 non-null   object\n",
            " 6   date_added    8797 non-null   object\n",
            " 7   release_year  8807 non-null   int64 \n",
            " 8   rating        8803 non-null   object\n",
            " 9   duration      8804 non-null   object\n",
            " 10  listed_in     8807 non-null   object\n",
            " 11  description   8807 non-null   object\n",
            "dtypes: int64(1), object(11)\n",
            "memory usage: 825.8+ KB\n"
          ]
        }
      ],
      "source": [
        "df.info()"
      ]
    },
    {
      "cell_type": "code",
      "execution_count": null,
      "id": "be01ee4e",
      "metadata": {
        "id": "be01ee4e",
        "outputId": "7b5bbc00-8d2c-4114-de81-04d33482dbca"
      },
      "outputs": [
        {
          "data": {
            "text/plain": [
              "(8807, 12)"
            ]
          },
          "execution_count": 407,
          "metadata": {},
          "output_type": "execute_result"
        }
      ],
      "source": [
        "df.shape"
      ]
    },
    {
      "cell_type": "code",
      "execution_count": null,
      "id": "1f676c05",
      "metadata": {
        "id": "1f676c05",
        "outputId": "bfdda978-5373-48aa-8b42-01dfd1954d7e"
      },
      "outputs": [
        {
          "data": {
            "text/plain": [
              "['show_id',\n",
              " 'type',\n",
              " 'title',\n",
              " 'director',\n",
              " 'cast',\n",
              " 'country',\n",
              " 'date_added',\n",
              " 'release_year',\n",
              " 'rating',\n",
              " 'duration',\n",
              " 'listed_in',\n",
              " 'description']"
            ]
          },
          "execution_count": 408,
          "metadata": {},
          "output_type": "execute_result"
        }
      ],
      "source": [
        "df.columns.to_list()"
      ]
    },
    {
      "cell_type": "code",
      "execution_count": null,
      "id": "871dddfb",
      "metadata": {
        "id": "871dddfb",
        "outputId": "3f26b9ef-5186-4d75-d13c-2e9f25a511eb"
      },
      "outputs": [
        {
          "data": {
            "text/plain": [
              "show_id            0\n",
              "type               0\n",
              "title              0\n",
              "director        2634\n",
              "cast             825\n",
              "country          831\n",
              "date_added        10\n",
              "release_year       0\n",
              "rating             4\n",
              "duration           3\n",
              "listed_in          0\n",
              "description        0\n",
              "dtype: int64"
            ]
          },
          "execution_count": 409,
          "metadata": {},
          "output_type": "execute_result"
        }
      ],
      "source": [
        "df.isnull().sum()"
      ]
    },
    {
      "cell_type": "code",
      "execution_count": null,
      "id": "bb88333d",
      "metadata": {
        "id": "bb88333d",
        "outputId": "62eb439f-9214-4b6b-d5ff-e862f90a23fa"
      },
      "outputs": [
        {
          "data": {
            "text/plain": [
              "show_id          0.000000\n",
              "type             0.000000\n",
              "title            0.000000\n",
              "director        29.908028\n",
              "cast             9.367549\n",
              "country          9.435676\n",
              "date_added       0.113546\n",
              "release_year     0.000000\n",
              "rating           0.045418\n",
              "duration         0.034064\n",
              "listed_in        0.000000\n",
              "description      0.000000\n",
              "dtype: float64"
            ]
          },
          "execution_count": 410,
          "metadata": {},
          "output_type": "execute_result"
        }
      ],
      "source": [
        "(df.isnull().sum()) / (df.shape[0])*100"
      ]
    },
    {
      "cell_type": "markdown",
      "id": "c371f98c",
      "metadata": {
        "id": "c371f98c"
      },
      "source": [
        "# Data Cleaning - removing / replacing nuls\n"
      ]
    },
    {
      "cell_type": "code",
      "execution_count": null,
      "id": "e5b8ebd1",
      "metadata": {
        "id": "e5b8ebd1",
        "outputId": "aef3917f-4a98-43cd-f26d-4bf5a6b6d75a"
      },
      "outputs": [
        {
          "name": "stdout",
          "output_type": "stream",
          "text": [
            "<class 'pandas.core.frame.DataFrame'>\n",
            "Int64Index: 8790 entries, 0 to 8806\n",
            "Data columns (total 12 columns):\n",
            " #   Column        Non-Null Count  Dtype \n",
            "---  ------        --------------  ----- \n",
            " 0   show_id       8790 non-null   object\n",
            " 1   type          8790 non-null   object\n",
            " 2   title         8790 non-null   object\n",
            " 3   director      6169 non-null   object\n",
            " 4   cast          7965 non-null   object\n",
            " 5   country       7961 non-null   object\n",
            " 6   date_added    8790 non-null   object\n",
            " 7   release_year  8790 non-null   int64 \n",
            " 8   rating        8790 non-null   object\n",
            " 9   duration      8790 non-null   object\n",
            " 10  listed_in     8790 non-null   object\n",
            " 11  description   8790 non-null   object\n",
            "dtypes: int64(1), object(11)\n",
            "memory usage: 892.7+ KB\n"
          ]
        }
      ],
      "source": [
        "# Since the percentage of nulls are in negligible percentage, it won't affect the analysis if gets dropped, hence dropping these rows\n",
        "\n",
        "df.dropna(subset = [\"date_added\", \"rating\", \"duration\" ], axis = 0, inplace = True)\n",
        "df.info()"
      ]
    },
    {
      "cell_type": "code",
      "execution_count": null,
      "id": "3661693f",
      "metadata": {
        "id": "3661693f",
        "outputId": "a8eb874b-a00b-4368-fd5d-7756c0bb7e02"
      },
      "outputs": [
        {
          "name": "stdout",
          "output_type": "stream",
          "text": [
            "<class 'pandas.core.frame.DataFrame'>\n",
            "Int64Index: 8790 entries, 0 to 8806\n",
            "Data columns (total 12 columns):\n",
            " #   Column        Non-Null Count  Dtype \n",
            "---  ------        --------------  ----- \n",
            " 0   show_id       8790 non-null   object\n",
            " 1   type          8790 non-null   object\n",
            " 2   title         8790 non-null   object\n",
            " 3   director      8790 non-null   object\n",
            " 4   cast          7965 non-null   object\n",
            " 5   country       7961 non-null   object\n",
            " 6   date_added    8790 non-null   object\n",
            " 7   release_year  8790 non-null   int64 \n",
            " 8   rating        8790 non-null   object\n",
            " 9   duration      8790 non-null   object\n",
            " 10  listed_in     8790 non-null   object\n",
            " 11  description   8790 non-null   object\n",
            "dtypes: int64(1), object(11)\n",
            "memory usage: 892.7+ KB\n"
          ]
        }
      ],
      "source": [
        "# While reviwing director column,below points are considered -\n",
        "    # It's been observed that 29.908028 percentage of director names are missing, which is really high percent, so we can not drop it.\n",
        "    # There are multiple directors for a movie or a tv show, so we can not replace it with any single director name directly.\n",
        "# hence keeping these rows and replacing missing values with \"No director listed\" string for analysis.\n",
        "\n",
        "df['director'].fillna(\"No director listed\", inplace = True)\n",
        "df.info()"
      ]
    },
    {
      "cell_type": "code",
      "execution_count": null,
      "id": "c3bf4300",
      "metadata": {
        "id": "c3bf4300",
        "outputId": "79fa8746-3d91-4bf3-d39c-28f0200ee2d9"
      },
      "outputs": [
        {
          "name": "stdout",
          "output_type": "stream",
          "text": [
            "<class 'pandas.core.frame.DataFrame'>\n",
            "Int64Index: 8790 entries, 0 to 8806\n",
            "Data columns (total 12 columns):\n",
            " #   Column        Non-Null Count  Dtype \n",
            "---  ------        --------------  ----- \n",
            " 0   show_id       8790 non-null   object\n",
            " 1   type          8790 non-null   object\n",
            " 2   title         8790 non-null   object\n",
            " 3   director      8790 non-null   object\n",
            " 4   cast          8790 non-null   object\n",
            " 5   country       7961 non-null   object\n",
            " 6   date_added    8790 non-null   object\n",
            " 7   release_year  8790 non-null   int64 \n",
            " 8   rating        8790 non-null   object\n",
            " 9   duration      8790 non-null   object\n",
            " 10  listed_in     8790 non-null   object\n",
            " 11  description   8790 non-null   object\n",
            "dtypes: int64(1), object(11)\n",
            "memory usage: 892.7+ KB\n"
          ]
        }
      ],
      "source": [
        "# While reviwing cast column,below points are considered -\n",
        "    # It's been observed that 9.367549 percentage of cast names are missing, which is really high percent, so we can not drop it.\n",
        "    # There are multiple casted in a movie or a tv show, so we can not replace it with any single person name directly.\n",
        "# hence keeping these rows and replacing missing values with \"No cast listed\" string for analysis.\n",
        "\n",
        "df['cast'].fillna(\"No cast listed\", inplace = True)\n",
        "df.info()"
      ]
    },
    {
      "cell_type": "code",
      "execution_count": null,
      "id": "7ac7a589",
      "metadata": {
        "id": "7ac7a589",
        "outputId": "85a7546f-0f5a-4977-d431-385983ac80f1"
      },
      "outputs": [
        {
          "name": "stdout",
          "output_type": "stream",
          "text": [
            "<class 'pandas.core.frame.DataFrame'>\n",
            "Int64Index: 8790 entries, 0 to 8806\n",
            "Data columns (total 12 columns):\n",
            " #   Column        Non-Null Count  Dtype \n",
            "---  ------        --------------  ----- \n",
            " 0   show_id       8790 non-null   object\n",
            " 1   type          8790 non-null   object\n",
            " 2   title         8790 non-null   object\n",
            " 3   director      8790 non-null   object\n",
            " 4   cast          8790 non-null   object\n",
            " 5   country       8790 non-null   object\n",
            " 6   date_added    8790 non-null   object\n",
            " 7   release_year  8790 non-null   int64 \n",
            " 8   rating        8790 non-null   object\n",
            " 9   duration      8790 non-null   object\n",
            " 10  listed_in     8790 non-null   object\n",
            " 11  description   8790 non-null   object\n",
            "dtypes: int64(1), object(11)\n",
            "memory usage: 892.7+ KB\n"
          ]
        }
      ],
      "source": [
        "# While reviwing country column,below points are considered -\n",
        "    # It's been observed that 9.435676 percentage of country names are missing, which is really high percent, so we can not drop it.\n",
        "    # There are multiple countries where a movie or a tv show originated from, so we can not replace it with any single country name directly.\n",
        "# hence keeping these rows and replacing missing values with \"Unknown\" string for analysis.\n",
        "\n",
        "df['country'].fillna(\"Unknown\", inplace = True)\n",
        "df.info()"
      ]
    },
    {
      "cell_type": "code",
      "execution_count": null,
      "id": "2e52ac78",
      "metadata": {
        "id": "2e52ac78",
        "outputId": "0f5d3beb-1ddd-4991-83c1-950d3d614d72"
      },
      "outputs": [
        {
          "data": {
            "text/plain": [
              "(8790, 12)"
            ]
          },
          "execution_count": 415,
          "metadata": {},
          "output_type": "execute_result"
        }
      ],
      "source": [
        "df.shape"
      ]
    },
    {
      "cell_type": "code",
      "execution_count": null,
      "id": "4ceddcab",
      "metadata": {
        "id": "4ceddcab",
        "outputId": "cd0ac911-ead3-476b-f554-2ee4ccf537c6"
      },
      "outputs": [
        {
          "data": {
            "text/html": [
              "<div>\n",
              "<style scoped>\n",
              "    .dataframe tbody tr th:only-of-type {\n",
              "        vertical-align: middle;\n",
              "    }\n",
              "\n",
              "    .dataframe tbody tr th {\n",
              "        vertical-align: top;\n",
              "    }\n",
              "\n",
              "    .dataframe thead th {\n",
              "        text-align: right;\n",
              "    }\n",
              "</style>\n",
              "<table border=\"1\" class=\"dataframe\">\n",
              "  <thead>\n",
              "    <tr style=\"text-align: right;\">\n",
              "      <th></th>\n",
              "      <th>show_id</th>\n",
              "      <th>type</th>\n",
              "      <th>title</th>\n",
              "      <th>director</th>\n",
              "      <th>cast</th>\n",
              "      <th>country</th>\n",
              "      <th>date_added</th>\n",
              "      <th>release_year</th>\n",
              "      <th>rating</th>\n",
              "      <th>duration</th>\n",
              "      <th>listed_in</th>\n",
              "      <th>description</th>\n",
              "      <th>added_year</th>\n",
              "    </tr>\n",
              "  </thead>\n",
              "  <tbody>\n",
              "    <tr>\n",
              "      <th>8802</th>\n",
              "      <td>s8803</td>\n",
              "      <td>Movie</td>\n",
              "      <td>Zodiac</td>\n",
              "      <td>David Fincher</td>\n",
              "      <td>Mark Ruffalo, Jake Gyllenhaal, Robert Downey J...</td>\n",
              "      <td>United States</td>\n",
              "      <td>2019-11-20</td>\n",
              "      <td>2007</td>\n",
              "      <td>R</td>\n",
              "      <td>158 min</td>\n",
              "      <td>Cult Movies, Dramas, Thrillers</td>\n",
              "      <td>A political cartoonist, a crime reporter and a...</td>\n",
              "      <td>2019</td>\n",
              "    </tr>\n",
              "    <tr>\n",
              "      <th>8803</th>\n",
              "      <td>s8804</td>\n",
              "      <td>TV Show</td>\n",
              "      <td>Zombie Dumb</td>\n",
              "      <td>No director listed</td>\n",
              "      <td>No cast listed</td>\n",
              "      <td>Unknown</td>\n",
              "      <td>2019-07-01</td>\n",
              "      <td>2018</td>\n",
              "      <td>TV-Y7</td>\n",
              "      <td>2 Seasons</td>\n",
              "      <td>Kids' TV, Korean TV Shows, TV Comedies</td>\n",
              "      <td>While living alone in a spooky town, a young g...</td>\n",
              "      <td>2019</td>\n",
              "    </tr>\n",
              "    <tr>\n",
              "      <th>8804</th>\n",
              "      <td>s8805</td>\n",
              "      <td>Movie</td>\n",
              "      <td>Zombieland</td>\n",
              "      <td>Ruben Fleischer</td>\n",
              "      <td>Jesse Eisenberg, Woody Harrelson, Emma Stone, ...</td>\n",
              "      <td>United States</td>\n",
              "      <td>2019-11-01</td>\n",
              "      <td>2009</td>\n",
              "      <td>R</td>\n",
              "      <td>88 min</td>\n",
              "      <td>Comedies, Horror Movies</td>\n",
              "      <td>Looking to survive in a world taken over by zo...</td>\n",
              "      <td>2019</td>\n",
              "    </tr>\n",
              "    <tr>\n",
              "      <th>8805</th>\n",
              "      <td>s8806</td>\n",
              "      <td>Movie</td>\n",
              "      <td>Zoom</td>\n",
              "      <td>Peter Hewitt</td>\n",
              "      <td>Tim Allen, Courteney Cox, Chevy Chase, Kate Ma...</td>\n",
              "      <td>United States</td>\n",
              "      <td>2020-01-11</td>\n",
              "      <td>2006</td>\n",
              "      <td>PG</td>\n",
              "      <td>88 min</td>\n",
              "      <td>Children &amp; Family Movies, Comedies</td>\n",
              "      <td>Dragged from civilian life, a former superhero...</td>\n",
              "      <td>2020</td>\n",
              "    </tr>\n",
              "    <tr>\n",
              "      <th>8806</th>\n",
              "      <td>s8807</td>\n",
              "      <td>Movie</td>\n",
              "      <td>Zubaan</td>\n",
              "      <td>Mozez Singh</td>\n",
              "      <td>Vicky Kaushal, Sarah-Jane Dias, Raaghav Chanan...</td>\n",
              "      <td>India</td>\n",
              "      <td>2019-03-02</td>\n",
              "      <td>2015</td>\n",
              "      <td>TV-14</td>\n",
              "      <td>111 min</td>\n",
              "      <td>Dramas, International Movies, Music &amp; Musicals</td>\n",
              "      <td>A scrappy but poor boy worms his way into a ty...</td>\n",
              "      <td>2019</td>\n",
              "    </tr>\n",
              "  </tbody>\n",
              "</table>\n",
              "</div>"
            ],
            "text/plain": [
              "     show_id     type        title            director  \\\n",
              "8802   s8803    Movie       Zodiac       David Fincher   \n",
              "8803   s8804  TV Show  Zombie Dumb  No director listed   \n",
              "8804   s8805    Movie   Zombieland     Ruben Fleischer   \n",
              "8805   s8806    Movie         Zoom        Peter Hewitt   \n",
              "8806   s8807    Movie       Zubaan         Mozez Singh   \n",
              "\n",
              "                                                   cast        country  \\\n",
              "8802  Mark Ruffalo, Jake Gyllenhaal, Robert Downey J...  United States   \n",
              "8803                                     No cast listed        Unknown   \n",
              "8804  Jesse Eisenberg, Woody Harrelson, Emma Stone, ...  United States   \n",
              "8805  Tim Allen, Courteney Cox, Chevy Chase, Kate Ma...  United States   \n",
              "8806  Vicky Kaushal, Sarah-Jane Dias, Raaghav Chanan...          India   \n",
              "\n",
              "     date_added  release_year rating   duration  \\\n",
              "8802 2019-11-20          2007      R    158 min   \n",
              "8803 2019-07-01          2018  TV-Y7  2 Seasons   \n",
              "8804 2019-11-01          2009      R     88 min   \n",
              "8805 2020-01-11          2006     PG     88 min   \n",
              "8806 2019-03-02          2015  TV-14    111 min   \n",
              "\n",
              "                                           listed_in  \\\n",
              "8802                  Cult Movies, Dramas, Thrillers   \n",
              "8803          Kids' TV, Korean TV Shows, TV Comedies   \n",
              "8804                         Comedies, Horror Movies   \n",
              "8805              Children & Family Movies, Comedies   \n",
              "8806  Dramas, International Movies, Music & Musicals   \n",
              "\n",
              "                                            description  added_year  \n",
              "8802  A political cartoonist, a crime reporter and a...        2019  \n",
              "8803  While living alone in a spooky town, a young g...        2019  \n",
              "8804  Looking to survive in a world taken over by zo...        2019  \n",
              "8805  Dragged from civilian life, a former superhero...        2020  \n",
              "8806  A scrappy but poor boy worms his way into a ty...        2019  "
            ]
          },
          "execution_count": 416,
          "metadata": {},
          "output_type": "execute_result"
        }
      ],
      "source": [
        "df[\"date_added\"] = pd.to_datetime(df[\"date_added\"])\n",
        "df[\"added_year\"] = df[\"date_added\"].dt.year\n",
        "df.tail()"
      ]
    },
    {
      "cell_type": "code",
      "execution_count": null,
      "id": "7c2f51d8",
      "metadata": {
        "id": "7c2f51d8",
        "outputId": "f0b322f6-2fb8-4562-9e54-d2348e593a88"
      },
      "outputs": [
        {
          "data": {
            "text/plain": [
              "2018    1146\n",
              "2019    1030\n",
              "2017    1030\n",
              "2020     953\n",
              "2016     901\n",
              "        ... \n",
              "1966       1\n",
              "1925       1\n",
              "1947       1\n",
              "1959       1\n",
              "1961       1\n",
              "Name: release_year, Length: 74, dtype: int64"
            ]
          },
          "execution_count": 417,
          "metadata": {},
          "output_type": "execute_result"
        }
      ],
      "source": [
        "df[\"release_year\"].value_counts()"
      ]
    },
    {
      "cell_type": "code",
      "execution_count": null,
      "id": "2bb90a53",
      "metadata": {
        "id": "2bb90a53",
        "outputId": "effe3552-ac24-4d48-9c8b-7547a8c99734"
      },
      "outputs": [
        {
          "data": {
            "text/plain": [
              "(1925, 2021)"
            ]
          },
          "execution_count": 418,
          "metadata": {},
          "output_type": "execute_result"
        }
      ],
      "source": [
        "df[\"release_year\"].min(),df[\"release_year\"].max()"
      ]
    },
    {
      "cell_type": "code",
      "execution_count": null,
      "id": "d203da4b",
      "metadata": {
        "id": "d203da4b",
        "outputId": "b0c0ba92-bcbf-416b-862e-3047cd7394dc"
      },
      "outputs": [
        {
          "data": {
            "image/png": "[encoded data removed]",
            "text/plain": [
              "<Figure size 432x288 with 1 Axes>"
            ]
          },
          "metadata": {
            "needs_background": "light"
          },
          "output_type": "display_data"
        }
      ],
      "source": [
        "sns.countplot(x = df[\"type\"])\n",
        "plt.show()"
      ]
    },
    {
      "cell_type": "code",
      "execution_count": null,
      "id": "521cd24b",
      "metadata": {
        "id": "521cd24b",
        "outputId": "3faccd9d-af05-4823-d6ab-4f593c84042b"
      },
      "outputs": [
        {
          "data": {
            "text/plain": [
              "Movie    6126\n",
              "Name: type, dtype: int64"
            ]
          },
          "execution_count": 420,
          "metadata": {},
          "output_type": "execute_result"
        }
      ],
      "source": [
        "movies = df[df[\"type\"] == \"Movie\"]\n",
        "movies[\"type\"].value_counts()"
      ]
    },
    {
      "cell_type": "code",
      "execution_count": null,
      "id": "376772a4",
      "metadata": {
        "id": "376772a4",
        "outputId": "40a55dae-72e3-41f5-a14f-4436acfb415a"
      },
      "outputs": [
        {
          "data": {
            "text/plain": [
              "(6126, 13)"
            ]
          },
          "execution_count": 421,
          "metadata": {},
          "output_type": "execute_result"
        }
      ],
      "source": [
        "movies.shape"
      ]
    },
    {
      "cell_type": "code",
      "execution_count": null,
      "id": "b7999dfa",
      "metadata": {
        "id": "b7999dfa",
        "outputId": "2374b304-b9a5-4ebe-be32-e47162c34fe1"
      },
      "outputs": [
        {
          "data": {
            "text/plain": [
              "TV Show    2664\n",
              "Name: type, dtype: int64"
            ]
          },
          "execution_count": 422,
          "metadata": {},
          "output_type": "execute_result"
        }
      ],
      "source": [
        "shows = df[df[\"type\"] == \"TV Show\"]\n",
        "shows[\"type\"].value_counts()"
      ]
    },
    {
      "cell_type": "code",
      "execution_count": null,
      "id": "d555d9ed",
      "metadata": {
        "id": "d555d9ed",
        "outputId": "5bf62afc-8eb8-43d4-9ca3-5d36e5472a51"
      },
      "outputs": [
        {
          "data": {
            "text/plain": [
              "(2664, 13)"
            ]
          },
          "execution_count": 423,
          "metadata": {},
          "output_type": "execute_result"
        }
      ],
      "source": [
        "shows.shape"
      ]
    },
    {
      "cell_type": "markdown",
      "id": "6257fe2b",
      "metadata": {
        "id": "6257fe2b"
      },
      "source": [
        "# 1.\tWhat type of content is available in different countries?\n",
        "\n",
        "All movies & shows where country is unknown have not been considered in this analysis."
      ]
    },
    {
      "cell_type": "code",
      "execution_count": null,
      "id": "7bb9ba22",
      "metadata": {
        "id": "7bb9ba22",
        "outputId": "67f4cc09-987a-4f60-b32d-268b9642c911"
      },
      "outputs": [
        {
          "data": {
            "text/html": [
              "<div>\n",
              "<style scoped>\n",
              "    .dataframe tbody tr th:only-of-type {\n",
              "        vertical-align: middle;\n",
              "    }\n",
              "\n",
              "    .dataframe tbody tr th {\n",
              "        vertical-align: top;\n",
              "    }\n",
              "\n",
              "    .dataframe thead th {\n",
              "        text-align: right;\n",
              "    }\n",
              "</style>\n",
              "<table border=\"1\" class=\"dataframe\">\n",
              "  <thead>\n",
              "    <tr style=\"text-align: right;\">\n",
              "      <th></th>\n",
              "      <th>index</th>\n",
              "      <th>show_id</th>\n",
              "      <th>type</th>\n",
              "      <th>title</th>\n",
              "      <th>director</th>\n",
              "      <th>cast</th>\n",
              "      <th>date_added</th>\n",
              "      <th>release_year</th>\n",
              "      <th>rating</th>\n",
              "      <th>duration</th>\n",
              "      <th>listed_in</th>\n",
              "      <th>description</th>\n",
              "      <th>added_year</th>\n",
              "      <th>level_12</th>\n",
              "      <th>country</th>\n",
              "    </tr>\n",
              "  </thead>\n",
              "  <tbody>\n",
              "    <tr>\n",
              "      <th>0</th>\n",
              "      <td>0</td>\n",
              "      <td>s1</td>\n",
              "      <td>Movie</td>\n",
              "      <td>Dick Johnson Is Dead</td>\n",
              "      <td>Kirsten Johnson</td>\n",
              "      <td>No cast listed</td>\n",
              "      <td>2021-09-25</td>\n",
              "      <td>2020</td>\n",
              "      <td>PG-13</td>\n",
              "      <td>90 min</td>\n",
              "      <td>Documentaries</td>\n",
              "      <td>As her father nears the end of his life, filmm...</td>\n",
              "      <td>2021</td>\n",
              "      <td>0</td>\n",
              "      <td>United States</td>\n",
              "    </tr>\n",
              "    <tr>\n",
              "      <th>1</th>\n",
              "      <td>1</td>\n",
              "      <td>s2</td>\n",
              "      <td>TV Show</td>\n",
              "      <td>Blood &amp; Water</td>\n",
              "      <td>No director listed</td>\n",
              "      <td>Ama Qamata, Khosi Ngema, Gail Mabalane, Thaban...</td>\n",
              "      <td>2021-09-24</td>\n",
              "      <td>2021</td>\n",
              "      <td>TV-MA</td>\n",
              "      <td>2 Seasons</td>\n",
              "      <td>International TV Shows, TV Dramas, TV Mysteries</td>\n",
              "      <td>After crossing paths at a party, a Cape Town t...</td>\n",
              "      <td>2021</td>\n",
              "      <td>0</td>\n",
              "      <td>South Africa</td>\n",
              "    </tr>\n",
              "    <tr>\n",
              "      <th>2</th>\n",
              "      <td>2</td>\n",
              "      <td>s5</td>\n",
              "      <td>TV Show</td>\n",
              "      <td>Kota Factory</td>\n",
              "      <td>No director listed</td>\n",
              "      <td>Mayur More, Jitendra Kumar, Ranjan Raj, Alam K...</td>\n",
              "      <td>2021-09-24</td>\n",
              "      <td>2021</td>\n",
              "      <td>TV-MA</td>\n",
              "      <td>2 Seasons</td>\n",
              "      <td>International TV Shows, Romantic TV Shows, TV ...</td>\n",
              "      <td>In a city of coaching centers known to train I...</td>\n",
              "      <td>2021</td>\n",
              "      <td>0</td>\n",
              "      <td>India</td>\n",
              "    </tr>\n",
              "    <tr>\n",
              "      <th>3</th>\n",
              "      <td>3</td>\n",
              "      <td>s8</td>\n",
              "      <td>Movie</td>\n",
              "      <td>Sankofa</td>\n",
              "      <td>Haile Gerima</td>\n",
              "      <td>Kofi Ghanaba, Oyafunmike Ogunlano, Alexandra D...</td>\n",
              "      <td>2021-09-24</td>\n",
              "      <td>1993</td>\n",
              "      <td>TV-MA</td>\n",
              "      <td>125 min</td>\n",
              "      <td>Dramas, Independent Movies, International Movies</td>\n",
              "      <td>On a photo shoot in Ghana, an American model s...</td>\n",
              "      <td>2021</td>\n",
              "      <td>0</td>\n",
              "      <td>United States</td>\n",
              "    </tr>\n",
              "    <tr>\n",
              "      <th>4</th>\n",
              "      <td>4</td>\n",
              "      <td>s8</td>\n",
              "      <td>Movie</td>\n",
              "      <td>Sankofa</td>\n",
              "      <td>Haile Gerima</td>\n",
              "      <td>Kofi Ghanaba, Oyafunmike Ogunlano, Alexandra D...</td>\n",
              "      <td>2021-09-24</td>\n",
              "      <td>1993</td>\n",
              "      <td>TV-MA</td>\n",
              "      <td>125 min</td>\n",
              "      <td>Dramas, Independent Movies, International Movies</td>\n",
              "      <td>On a photo shoot in Ghana, an American model s...</td>\n",
              "      <td>2021</td>\n",
              "      <td>1</td>\n",
              "      <td>Ghana</td>\n",
              "    </tr>\n",
              "  </tbody>\n",
              "</table>\n",
              "</div>"
            ],
            "text/plain": [
              "   index show_id     type                 title            director  \\\n",
              "0      0      s1    Movie  Dick Johnson Is Dead     Kirsten Johnson   \n",
              "1      1      s2  TV Show         Blood & Water  No director listed   \n",
              "2      2      s5  TV Show          Kota Factory  No director listed   \n",
              "3      3      s8    Movie               Sankofa        Haile Gerima   \n",
              "4      4      s8    Movie               Sankofa        Haile Gerima   \n",
              "\n",
              "                                                cast date_added  release_year  \\\n",
              "0                                     No cast listed 2021-09-25          2020   \n",
              "1  Ama Qamata, Khosi Ngema, Gail Mabalane, Thaban... 2021-09-24          2021   \n",
              "2  Mayur More, Jitendra Kumar, Ranjan Raj, Alam K... 2021-09-24          2021   \n",
              "3  Kofi Ghanaba, Oyafunmike Ogunlano, Alexandra D... 2021-09-24          1993   \n",
              "4  Kofi Ghanaba, Oyafunmike Ogunlano, Alexandra D... 2021-09-24          1993   \n",
              "\n",
              "  rating   duration                                          listed_in  \\\n",
              "0  PG-13     90 min                                      Documentaries   \n",
              "1  TV-MA  2 Seasons    International TV Shows, TV Dramas, TV Mysteries   \n",
              "2  TV-MA  2 Seasons  International TV Shows, Romantic TV Shows, TV ...   \n",
              "3  TV-MA    125 min   Dramas, Independent Movies, International Movies   \n",
              "4  TV-MA    125 min   Dramas, Independent Movies, International Movies   \n",
              "\n",
              "                                         description  added_year  level_12  \\\n",
              "0  As her father nears the end of his life, filmm...        2021         0   \n",
              "1  After crossing paths at a party, a Cape Town t...        2021         0   \n",
              "2  In a city of coaching centers known to train I...        2021         0   \n",
              "3  On a photo shoot in Ghana, an American model s...        2021         0   \n",
              "4  On a photo shoot in Ghana, an American model s...        2021         1   \n",
              "\n",
              "         country  \n",
              "0  United States  \n",
              "1   South Africa  \n",
              "2          India  \n",
              "3  United States  \n",
              "4          Ghana  "
            ]
          },
          "execution_count": 488,
          "metadata": {},
          "output_type": "execute_result"
        }
      ],
      "source": [
        "countries = df[df[\"country\"]!= \"Unknown\"].set_index(['show_id', 'type', 'title', 'director', 'cast', 'date_added',\n",
        "       'release_year', 'rating', 'duration', 'listed_in', 'description', 'added_year'])[\"country\"].str.split(\",\", expand = True).stack().reset_index(drop = False).reset_index()\n",
        "countries.rename(columns = {0 : \"country\"}, inplace = True)\n",
        "countries.head()"
      ]
    },
    {
      "cell_type": "code",
      "execution_count": null,
      "id": "967416b6",
      "metadata": {
        "id": "967416b6",
        "outputId": "40731361-b91e-449e-e486-c5104e971ef0"
      },
      "outputs": [
        {
          "data": {
            "text/plain": [
              "United States     3202\n",
              "India             1008\n",
              "United Kingdom     627\n",
              " United States     479\n",
              "Canada             271\n",
              "Japan              257\n",
              "France             212\n",
              "South Korea        211\n",
              " France            181\n",
              "Spain              181\n",
              "Name: country, dtype: int64"
            ]
          },
          "execution_count": 489,
          "metadata": {},
          "output_type": "execute_result"
        }
      ],
      "source": [
        "countries[\"country\"].value_counts().head(10)"
      ]
    },
    {
      "cell_type": "code",
      "execution_count": null,
      "id": "a4f1b3a4",
      "metadata": {
        "id": "a4f1b3a4",
        "outputId": "7053193d-1125-4842-f278-39d7ed10ab24"
      },
      "outputs": [
        {
          "data": {
            "text/html": [
              "<div>\n",
              "<style scoped>\n",
              "    .dataframe tbody tr th:only-of-type {\n",
              "        vertical-align: middle;\n",
              "    }\n",
              "\n",
              "    .dataframe tbody tr th {\n",
              "        vertical-align: top;\n",
              "    }\n",
              "\n",
              "    .dataframe thead th {\n",
              "        text-align: right;\n",
              "    }\n",
              "</style>\n",
              "<table border=\"1\" class=\"dataframe\">\n",
              "  <thead>\n",
              "    <tr style=\"text-align: right;\">\n",
              "      <th></th>\n",
              "      <th>country</th>\n",
              "      <th>type</th>\n",
              "      <th>total number</th>\n",
              "    </tr>\n",
              "  </thead>\n",
              "  <tbody>\n",
              "    <tr>\n",
              "      <th>0</th>\n",
              "      <td>United States</td>\n",
              "      <td>Movie</td>\n",
              "      <td>2361</td>\n",
              "    </tr>\n",
              "    <tr>\n",
              "      <th>1</th>\n",
              "      <td>India</td>\n",
              "      <td>Movie</td>\n",
              "      <td>927</td>\n",
              "    </tr>\n",
              "    <tr>\n",
              "      <th>2</th>\n",
              "      <td>United States</td>\n",
              "      <td>TV Show</td>\n",
              "      <td>841</td>\n",
              "    </tr>\n",
              "    <tr>\n",
              "      <th>3</th>\n",
              "      <td>United States</td>\n",
              "      <td>Movie</td>\n",
              "      <td>388</td>\n",
              "    </tr>\n",
              "    <tr>\n",
              "      <th>4</th>\n",
              "      <td>United Kingdom</td>\n",
              "      <td>Movie</td>\n",
              "      <td>382</td>\n",
              "    </tr>\n",
              "  </tbody>\n",
              "</table>\n",
              "</div>"
            ],
            "text/plain": [
              "          country     type  total number\n",
              "0   United States    Movie          2361\n",
              "1           India    Movie           927\n",
              "2   United States  TV Show           841\n",
              "3   United States    Movie           388\n",
              "4  United Kingdom    Movie           382"
            ]
          },
          "execution_count": 490,
          "metadata": {},
          "output_type": "execute_result"
        }
      ],
      "source": [
        "# Only selecting top 30 content producers per country - movies & TV shows\n",
        "\n",
        "content = pd.DataFrame(countries[[\"country\",\"type\"]].value_counts().head(30)).reset_index()\n",
        "content.rename(columns = {0 : \"total number\"}, inplace = True)\n",
        "content.head()"
      ]
    },
    {
      "cell_type": "code",
      "execution_count": null,
      "id": "4fb9a02a",
      "metadata": {
        "id": "4fb9a02a",
        "outputId": "c7c24fd2-ba76-415b-c73a-c40d0b756c3e"
      },
      "outputs": [
        {
          "data": {
            "image/png": "[encoded data removed]",
            "text/plain": [
              "<Figure size 1800x576 with 1 Axes>"
            ]
          },
          "metadata": {
            "needs_background": "light"
          },
          "output_type": "display_data"
        }
      ],
      "source": [
        "plt.figure(figsize=(25, 8))\n",
        "\n",
        "sns.barplot(data=content, x=\"country\", y=\"total number\", hue=\"type\")\n",
        "\n",
        "\n",
        "plt.title(\"Bar Plot of Total Number of movies & TV shows by Country\")\n",
        "plt.xlabel(\"Country\")\n",
        "plt.ylabel(\"Total Number\")\n",
        "plt.xticks(rotation=45)\n",
        "plt.legend(loc='upper right')\n",
        "\n",
        "plt.show()"
      ]
    },
    {
      "cell_type": "markdown",
      "id": "df6577c3",
      "metadata": {
        "id": "df6577c3"
      },
      "source": [
        "United States, India, United States, United Kingdom, Canada, South Korea have huge number of TV shows / movies getting released every year, which shows there is possibility of increasing business"
      ]
    },
    {
      "cell_type": "code",
      "execution_count": null,
      "id": "fda98161",
      "metadata": {
        "scrolled": true,
        "id": "fda98161",
        "outputId": "0318980d-8ea4-49d6-b193-1a6f94b31b9b"
      },
      "outputs": [
        {
          "data": {
            "text/plain": [
              "country        rating\n",
              "United States  TV-MA     985\n",
              "India          TV-14     563\n",
              "United States  R         536\n",
              "               TV-14     437\n",
              "               PG-13     362\n",
              "                        ... \n",
              " Senegal       TV-MA       1\n",
              "               TV-14       1\n",
              " Saudi Arabia  TV-PG       1\n",
              "               TV-MA       1\n",
              "Zimbabwe       TV-G        1\n",
              "Length: 768, dtype: int64"
            ]
          },
          "execution_count": 510,
          "metadata": {},
          "output_type": "execute_result"
        }
      ],
      "source": [
        "countries[[\"country\",\"rating\"]].value_counts()"
      ]
    },
    {
      "cell_type": "code",
      "execution_count": null,
      "id": "8d37a981",
      "metadata": {
        "scrolled": true,
        "id": "8d37a981",
        "outputId": "18321631-5200-45bf-c9a9-a0ba2abbb045"
      },
      "outputs": [
        {
          "data": {
            "text/plain": [
              "country        rating\n",
              "United States  TV-MA     645\n",
              "India          TV-14     539\n",
              "United States  R         536\n",
              "               PG-13     362\n",
              "               TV-14     231\n",
              "                        ... \n",
              "Greece         TV-MA       1\n",
              " New Zealand   NR          1\n",
              "Germany        TV-Y7       1\n",
              "               TV-Y        1\n",
              "Zimbabwe       TV-G        1\n",
              "Length: 701, dtype: int64"
            ]
          },
          "execution_count": 508,
          "metadata": {},
          "output_type": "execute_result"
        }
      ],
      "source": [
        "movie_rating = countries[countries[\"type\"] == \"Movie\"][[\"country\",\"rating\"]].value_counts()\n",
        "movie_rating"
      ]
    },
    {
      "cell_type": "code",
      "execution_count": null,
      "id": "24dae986",
      "metadata": {
        "scrolled": true,
        "id": "24dae986",
        "outputId": "32d52b80-479b-4ce4-db48-e6e5cbb4f3fc"
      },
      "outputs": [
        {
          "data": {
            "text/plain": [
              "country         rating\n",
              "United States   TV-MA     340\n",
              "                TV-14     206\n",
              "                TV-PG     111\n",
              "United Kingdom  TV-MA     105\n",
              "United States   TV-Y7      81\n",
              "                         ... \n",
              "Argentina       TV-PG       1\n",
              "Australia       TV-Y7       1\n",
              "Austria         TV-MA       1\n",
              "Belarus         TV-Y        1\n",
              "Uruguay         TV-G        1\n",
              "Length: 272, dtype: int64"
            ]
          },
          "execution_count": 509,
          "metadata": {},
          "output_type": "execute_result"
        }
      ],
      "source": [
        "shows_rating = countries[countries[\"type\"] == \"TV Show\"][[\"country\",\"rating\"]].value_counts()\n",
        "shows_rating"
      ]
    },
    {
      "cell_type": "markdown",
      "id": "b04de64e",
      "metadata": {
        "id": "b04de64e"
      },
      "source": [
        "TV-MA, TV-PG rated content which is for the Mature Audiences, is available in the database in large number independent of the country and type of content(movie or tv show)."
      ]
    },
    {
      "cell_type": "markdown",
      "id": "5aaca99c",
      "metadata": {
        "id": "5aaca99c"
      },
      "source": [
        "# 2.\tHow has the number of movies released per year changed over the last 20-30 years?"
      ]
    },
    {
      "cell_type": "code",
      "execution_count": null,
      "id": "e8f9bc2f",
      "metadata": {
        "id": "e8f9bc2f",
        "outputId": "afbb6c3d-4844-4b12-9d85-981e6b49b26e"
      },
      "outputs": [
        {
          "data": {
            "text/html": [
              "<div>\n",
              "<style scoped>\n",
              "    .dataframe tbody tr th:only-of-type {\n",
              "        vertical-align: middle;\n",
              "    }\n",
              "\n",
              "    .dataframe tbody tr th {\n",
              "        vertical-align: top;\n",
              "    }\n",
              "\n",
              "    .dataframe thead th {\n",
              "        text-align: right;\n",
              "    }\n",
              "</style>\n",
              "<table border=\"1\" class=\"dataframe\">\n",
              "  <thead>\n",
              "    <tr style=\"text-align: right;\">\n",
              "      <th></th>\n",
              "      <th>show_id</th>\n",
              "      <th>type</th>\n",
              "      <th>title</th>\n",
              "      <th>director</th>\n",
              "      <th>cast</th>\n",
              "      <th>country</th>\n",
              "      <th>date_added</th>\n",
              "      <th>release_year</th>\n",
              "      <th>rating</th>\n",
              "      <th>duration</th>\n",
              "      <th>listed_in</th>\n",
              "      <th>description</th>\n",
              "      <th>added_year</th>\n",
              "    </tr>\n",
              "  </thead>\n",
              "  <tbody>\n",
              "    <tr>\n",
              "      <th>0</th>\n",
              "      <td>s1</td>\n",
              "      <td>Movie</td>\n",
              "      <td>Dick Johnson Is Dead</td>\n",
              "      <td>Kirsten Johnson</td>\n",
              "      <td>No cast listed</td>\n",
              "      <td>United States</td>\n",
              "      <td>2021-09-25</td>\n",
              "      <td>2020</td>\n",
              "      <td>PG-13</td>\n",
              "      <td>90 min</td>\n",
              "      <td>Documentaries</td>\n",
              "      <td>As her father nears the end of his life, filmm...</td>\n",
              "      <td>2021</td>\n",
              "    </tr>\n",
              "    <tr>\n",
              "      <th>6</th>\n",
              "      <td>s7</td>\n",
              "      <td>Movie</td>\n",
              "      <td>My Little Pony: A New Generation</td>\n",
              "      <td>Robert Cullen, José Luis Ucha</td>\n",
              "      <td>Vanessa Hudgens, Kimiko Glenn, James Marsden, ...</td>\n",
              "      <td>Unknown</td>\n",
              "      <td>2021-09-24</td>\n",
              "      <td>2021</td>\n",
              "      <td>PG</td>\n",
              "      <td>91 min</td>\n",
              "      <td>Children &amp; Family Movies</td>\n",
              "      <td>Equestria's divided. But a bright-eyed hero be...</td>\n",
              "      <td>2021</td>\n",
              "    </tr>\n",
              "    <tr>\n",
              "      <th>7</th>\n",
              "      <td>s8</td>\n",
              "      <td>Movie</td>\n",
              "      <td>Sankofa</td>\n",
              "      <td>Haile Gerima</td>\n",
              "      <td>Kofi Ghanaba, Oyafunmike Ogunlano, Alexandra D...</td>\n",
              "      <td>United States, Ghana, Burkina Faso, United Kin...</td>\n",
              "      <td>2021-09-24</td>\n",
              "      <td>1993</td>\n",
              "      <td>TV-MA</td>\n",
              "      <td>125 min</td>\n",
              "      <td>Dramas, Independent Movies, International Movies</td>\n",
              "      <td>On a photo shoot in Ghana, an American model s...</td>\n",
              "      <td>2021</td>\n",
              "    </tr>\n",
              "    <tr>\n",
              "      <th>9</th>\n",
              "      <td>s10</td>\n",
              "      <td>Movie</td>\n",
              "      <td>The Starling</td>\n",
              "      <td>Theodore Melfi</td>\n",
              "      <td>Melissa McCarthy, Chris O'Dowd, Kevin Kline, T...</td>\n",
              "      <td>United States</td>\n",
              "      <td>2021-09-24</td>\n",
              "      <td>2021</td>\n",
              "      <td>PG-13</td>\n",
              "      <td>104 min</td>\n",
              "      <td>Comedies, Dramas</td>\n",
              "      <td>A woman adjusting to life after a loss contend...</td>\n",
              "      <td>2021</td>\n",
              "    </tr>\n",
              "    <tr>\n",
              "      <th>12</th>\n",
              "      <td>s13</td>\n",
              "      <td>Movie</td>\n",
              "      <td>Je Suis Karl</td>\n",
              "      <td>Christian Schwochow</td>\n",
              "      <td>Luna Wedler, Jannis Niewöhner, Milan Peschel, ...</td>\n",
              "      <td>Germany, Czech Republic</td>\n",
              "      <td>2021-09-23</td>\n",
              "      <td>2021</td>\n",
              "      <td>TV-MA</td>\n",
              "      <td>127 min</td>\n",
              "      <td>Dramas, International Movies</td>\n",
              "      <td>After most of her family is murdered in a terr...</td>\n",
              "      <td>2021</td>\n",
              "    </tr>\n",
              "  </tbody>\n",
              "</table>\n",
              "</div>"
            ],
            "text/plain": [
              "   show_id   type                             title  \\\n",
              "0       s1  Movie              Dick Johnson Is Dead   \n",
              "6       s7  Movie  My Little Pony: A New Generation   \n",
              "7       s8  Movie                           Sankofa   \n",
              "9      s10  Movie                      The Starling   \n",
              "12     s13  Movie                      Je Suis Karl   \n",
              "\n",
              "                         director  \\\n",
              "0                 Kirsten Johnson   \n",
              "6   Robert Cullen, José Luis Ucha   \n",
              "7                    Haile Gerima   \n",
              "9                  Theodore Melfi   \n",
              "12            Christian Schwochow   \n",
              "\n",
              "                                                 cast  \\\n",
              "0                                      No cast listed   \n",
              "6   Vanessa Hudgens, Kimiko Glenn, James Marsden, ...   \n",
              "7   Kofi Ghanaba, Oyafunmike Ogunlano, Alexandra D...   \n",
              "9   Melissa McCarthy, Chris O'Dowd, Kevin Kline, T...   \n",
              "12  Luna Wedler, Jannis Niewöhner, Milan Peschel, ...   \n",
              "\n",
              "                                              country date_added  \\\n",
              "0                                       United States 2021-09-25   \n",
              "6                                             Unknown 2021-09-24   \n",
              "7   United States, Ghana, Burkina Faso, United Kin... 2021-09-24   \n",
              "9                                       United States 2021-09-24   \n",
              "12                            Germany, Czech Republic 2021-09-23   \n",
              "\n",
              "    release_year rating duration  \\\n",
              "0           2020  PG-13   90 min   \n",
              "6           2021     PG   91 min   \n",
              "7           1993  TV-MA  125 min   \n",
              "9           2021  PG-13  104 min   \n",
              "12          2021  TV-MA  127 min   \n",
              "\n",
              "                                           listed_in  \\\n",
              "0                                      Documentaries   \n",
              "6                           Children & Family Movies   \n",
              "7   Dramas, Independent Movies, International Movies   \n",
              "9                                   Comedies, Dramas   \n",
              "12                      Dramas, International Movies   \n",
              "\n",
              "                                          description  added_year  \n",
              "0   As her father nears the end of his life, filmm...        2021  \n",
              "6   Equestria's divided. But a bright-eyed hero be...        2021  \n",
              "7   On a photo shoot in Ghana, an American model s...        2021  \n",
              "9   A woman adjusting to life after a loss contend...        2021  \n",
              "12  After most of her family is murdered in a terr...        2021  "
            ]
          },
          "execution_count": 428,
          "metadata": {},
          "output_type": "execute_result"
        }
      ],
      "source": [
        "movies_last_30_years = movies[(movies[\"release_year\"] > 1990)]\n",
        "movies_last_30_years.head()"
      ]
    },
    {
      "cell_type": "code",
      "execution_count": null,
      "id": "ce2efa17",
      "metadata": {
        "id": "ce2efa17",
        "outputId": "d8e710a3-791d-4c7c-9554-d6ddcc6101f3"
      },
      "outputs": [
        {
          "data": {
            "image/png": "[encoded data removed]",
            "text/plain": [
              "<Figure size 1800x576 with 1 Axes>"
            ]
          },
          "metadata": {
            "needs_background": "light"
          },
          "output_type": "display_data"
        }
      ],
      "source": [
        "plt.figure(figsize=(25, 8))\n",
        "\n",
        "sns.countplot(data = movies_last_30_years, x = \"release_year\")\n",
        "plt.title(\"Count Plot of Total Number of movies Per year\")\n",
        "plt.xlabel(\"year of release\")\n",
        "plt.xticks(rotation=45)\n",
        "plt.show()"
      ]
    },
    {
      "cell_type": "markdown",
      "id": "fef3fcc1",
      "metadata": {
        "id": "fef3fcc1"
      },
      "source": [
        "Genre based analysis is given Q7."
      ]
    },
    {
      "cell_type": "markdown",
      "id": "db3e8c04",
      "metadata": {
        "id": "db3e8c04"
      },
      "source": [
        "# 3.\tComparison of tv shows vs. movies."
      ]
    },
    {
      "cell_type": "code",
      "execution_count": null,
      "id": "25eb5fb1",
      "metadata": {
        "id": "25eb5fb1",
        "outputId": "3655fb8e-df8a-40dc-c6f9-bc7190fe566d"
      },
      "outputs": [
        {
          "data": {
            "image/png": "[encoded data removed]",
            "text/plain": [
              "<Figure size 1800x576 with 1 Axes>"
            ]
          },
          "metadata": {
            "needs_background": "light"
          },
          "output_type": "display_data"
        }
      ],
      "source": [
        "plt.figure(figsize=(25, 8))\n",
        "\n",
        "sns.countplot(data = df[df[\"release_year\"] > 1990], x = \"release_year\", hue = \"type\")\n",
        "plt.title(\"Count Plot of Total Number of movies vs. tv shows per year\")\n",
        "plt.xlabel(\"Year\")\n",
        "plt.ylabel(\"Total Number\")\n",
        "plt.xticks(rotation=45)\n",
        "plt.legend(loc='upper left')\n",
        "\n",
        "plt.show()\n",
        "\n"
      ]
    },
    {
      "cell_type": "code",
      "execution_count": null,
      "id": "e331a1f5",
      "metadata": {
        "id": "e331a1f5",
        "outputId": "4b6e87a8-9010-4e9c-ac04-3d96c62ca05f"
      },
      "outputs": [
        {
          "data": {
            "text/html": [
              "<div>\n",
              "<style scoped>\n",
              "    .dataframe tbody tr th:only-of-type {\n",
              "        vertical-align: middle;\n",
              "    }\n",
              "\n",
              "    .dataframe tbody tr th {\n",
              "        vertical-align: top;\n",
              "    }\n",
              "\n",
              "    .dataframe thead th {\n",
              "        text-align: right;\n",
              "    }\n",
              "</style>\n",
              "<table border=\"1\" class=\"dataframe\">\n",
              "  <thead>\n",
              "    <tr style=\"text-align: right;\">\n",
              "      <th></th>\n",
              "      <th>show_id</th>\n",
              "      <th>type</th>\n",
              "      <th>title</th>\n",
              "      <th>director</th>\n",
              "      <th>cast</th>\n",
              "      <th>country</th>\n",
              "      <th>date_added</th>\n",
              "      <th>release_year</th>\n",
              "      <th>rating</th>\n",
              "      <th>duration</th>\n",
              "      <th>description</th>\n",
              "      <th>added_year</th>\n",
              "      <th>genre</th>\n",
              "    </tr>\n",
              "  </thead>\n",
              "  <tbody>\n",
              "    <tr>\n",
              "      <th>0</th>\n",
              "      <td>s1</td>\n",
              "      <td>Movie</td>\n",
              "      <td>Dick Johnson Is Dead</td>\n",
              "      <td>Kirsten Johnson</td>\n",
              "      <td>No cast listed</td>\n",
              "      <td>United States</td>\n",
              "      <td>2021-09-25</td>\n",
              "      <td>2020</td>\n",
              "      <td>PG-13</td>\n",
              "      <td>90 min</td>\n",
              "      <td>As her father nears the end of his life, filmm...</td>\n",
              "      <td>2021</td>\n",
              "      <td>Documentaries</td>\n",
              "    </tr>\n",
              "    <tr>\n",
              "      <th>1</th>\n",
              "      <td>s2</td>\n",
              "      <td>TV Show</td>\n",
              "      <td>Blood &amp; Water</td>\n",
              "      <td>No director listed</td>\n",
              "      <td>Ama Qamata, Khosi Ngema, Gail Mabalane, Thaban...</td>\n",
              "      <td>South Africa</td>\n",
              "      <td>2021-09-24</td>\n",
              "      <td>2021</td>\n",
              "      <td>TV-MA</td>\n",
              "      <td>2 Seasons</td>\n",
              "      <td>After crossing paths at a party, a Cape Town t...</td>\n",
              "      <td>2021</td>\n",
              "      <td>International TV Shows</td>\n",
              "    </tr>\n",
              "    <tr>\n",
              "      <th>2</th>\n",
              "      <td>s2</td>\n",
              "      <td>TV Show</td>\n",
              "      <td>Blood &amp; Water</td>\n",
              "      <td>No director listed</td>\n",
              "      <td>Ama Qamata, Khosi Ngema, Gail Mabalane, Thaban...</td>\n",
              "      <td>South Africa</td>\n",
              "      <td>2021-09-24</td>\n",
              "      <td>2021</td>\n",
              "      <td>TV-MA</td>\n",
              "      <td>2 Seasons</td>\n",
              "      <td>After crossing paths at a party, a Cape Town t...</td>\n",
              "      <td>2021</td>\n",
              "      <td>TV Dramas</td>\n",
              "    </tr>\n",
              "    <tr>\n",
              "      <th>3</th>\n",
              "      <td>s2</td>\n",
              "      <td>TV Show</td>\n",
              "      <td>Blood &amp; Water</td>\n",
              "      <td>No director listed</td>\n",
              "      <td>Ama Qamata, Khosi Ngema, Gail Mabalane, Thaban...</td>\n",
              "      <td>South Africa</td>\n",
              "      <td>2021-09-24</td>\n",
              "      <td>2021</td>\n",
              "      <td>TV-MA</td>\n",
              "      <td>2 Seasons</td>\n",
              "      <td>After crossing paths at a party, a Cape Town t...</td>\n",
              "      <td>2021</td>\n",
              "      <td>TV Mysteries</td>\n",
              "    </tr>\n",
              "    <tr>\n",
              "      <th>4</th>\n",
              "      <td>s3</td>\n",
              "      <td>TV Show</td>\n",
              "      <td>Ganglands</td>\n",
              "      <td>Julien Leclercq</td>\n",
              "      <td>Sami Bouajila, Tracy Gotoas, Samuel Jouy, Nabi...</td>\n",
              "      <td>Unknown</td>\n",
              "      <td>2021-09-24</td>\n",
              "      <td>2021</td>\n",
              "      <td>TV-MA</td>\n",
              "      <td>1 Season</td>\n",
              "      <td>To protect his family from a powerful drug lor...</td>\n",
              "      <td>2021</td>\n",
              "      <td>Crime TV Shows</td>\n",
              "    </tr>\n",
              "  </tbody>\n",
              "</table>\n",
              "</div>"
            ],
            "text/plain": [
              "  show_id     type                 title            director  \\\n",
              "0      s1    Movie  Dick Johnson Is Dead     Kirsten Johnson   \n",
              "1      s2  TV Show         Blood & Water  No director listed   \n",
              "2      s2  TV Show         Blood & Water  No director listed   \n",
              "3      s2  TV Show         Blood & Water  No director listed   \n",
              "4      s3  TV Show             Ganglands     Julien Leclercq   \n",
              "\n",
              "                                                cast        country  \\\n",
              "0                                     No cast listed  United States   \n",
              "1  Ama Qamata, Khosi Ngema, Gail Mabalane, Thaban...   South Africa   \n",
              "2  Ama Qamata, Khosi Ngema, Gail Mabalane, Thaban...   South Africa   \n",
              "3  Ama Qamata, Khosi Ngema, Gail Mabalane, Thaban...   South Africa   \n",
              "4  Sami Bouajila, Tracy Gotoas, Samuel Jouy, Nabi...        Unknown   \n",
              "\n",
              "  date_added  release_year rating   duration  \\\n",
              "0 2021-09-25          2020  PG-13     90 min   \n",
              "1 2021-09-24          2021  TV-MA  2 Seasons   \n",
              "2 2021-09-24          2021  TV-MA  2 Seasons   \n",
              "3 2021-09-24          2021  TV-MA  2 Seasons   \n",
              "4 2021-09-24          2021  TV-MA   1 Season   \n",
              "\n",
              "                                         description  added_year  \\\n",
              "0  As her father nears the end of his life, filmm...        2021   \n",
              "1  After crossing paths at a party, a Cape Town t...        2021   \n",
              "2  After crossing paths at a party, a Cape Town t...        2021   \n",
              "3  After crossing paths at a party, a Cape Town t...        2021   \n",
              "4  To protect his family from a powerful drug lor...        2021   \n",
              "\n",
              "                    genre  \n",
              "0           Documentaries  \n",
              "1  International TV Shows  \n",
              "2               TV Dramas  \n",
              "3            TV Mysteries  \n",
              "4          Crime TV Shows  "
            ]
          },
          "execution_count": 431,
          "metadata": {},
          "output_type": "execute_result"
        }
      ],
      "source": [
        "genre = df[df[\"listed_in\"] != 0].set_index(['show_id', 'type', 'title', 'director', 'cast', 'country', 'date_added',\n",
        "       'release_year', 'rating', 'duration', 'description','added_year'])[\"listed_in\"].str.split(\",\", expand = True).stack().reset_index(name = \"genre\", drop = False).reset_index()\n",
        "genre[\"genre\"].value_counts().head()\n",
        "genre = genre[[ 'show_id', 'type', 'title', 'director', 'cast', 'country',\n",
        "       'date_added', 'release_year', 'rating', 'duration', 'description',\n",
        "       'added_year', 'genre']]\n",
        "\n",
        "genre.head()"
      ]
    },
    {
      "cell_type": "code",
      "execution_count": null,
      "id": "bab067ee",
      "metadata": {
        "id": "bab067ee",
        "outputId": "564785c9-d473-44a9-f830-15b91df5a5b6"
      },
      "outputs": [
        {
          "data": {
            "text/plain": [
              " International Movies     2624\n",
              "Dramas                    1599\n",
              "Comedies                  1210\n",
              "Action & Adventure         859\n",
              "Documentaries              829\n",
              " Dramas                    827\n",
              "International TV Shows     773\n",
              " Independent Movies        736\n",
              " TV Dramas                 695\n",
              " Romantic Movies           613\n",
              "Name: genre, dtype: int64"
            ]
          },
          "execution_count": 432,
          "metadata": {},
          "output_type": "execute_result"
        }
      ],
      "source": [
        "genre[\"genre\"].value_counts().head(10)"
      ]
    },
    {
      "cell_type": "code",
      "execution_count": null,
      "id": "533703e9",
      "metadata": {
        "scrolled": true,
        "id": "533703e9",
        "outputId": "67249763-0282-4f72-88e2-8d75eabb3526"
      },
      "outputs": [
        {
          "data": {
            "image/png": "[encoded data removed]",
            "text/plain": [
              "<Figure size 3600x720 with 1 Axes>"
            ]
          },
          "metadata": {
            "needs_background": "light"
          },
          "output_type": "display_data"
        }
      ],
      "source": [
        "plt.figure(figsize=(50, 10))\n",
        "\n",
        "sns.countplot(data = genre[genre[\"release_year\"] > 1990], x = \"genre\", hue = \"type\")\n",
        "plt.title(\"Count Plot of Total Number of movies vs. tv shows per Genre\")\n",
        "plt.xlabel(\"Genre\")\n",
        "plt.ylabel(\"Total Number\")\n",
        "plt.xticks(rotation=45)\n",
        "plt.legend(loc='upper right')\n",
        "\n",
        "plt.show()"
      ]
    },
    {
      "cell_type": "code",
      "execution_count": null,
      "id": "0f6d36b6",
      "metadata": {
        "id": "0f6d36b6",
        "outputId": "245fb930-c74a-4413-ac57-6cb6119d6837"
      },
      "outputs": [
        {
          "data": {
            "text/plain": [
              "country       \n",
              "United States     2361\n",
              "India              927\n",
              " United States     388\n",
              "United Kingdom     382\n",
              "Canada             187\n",
              "dtype: int64"
            ]
          },
          "execution_count": 434,
          "metadata": {},
          "output_type": "execute_result"
        }
      ],
      "source": [
        "top_5_countries_movies = countries[countries[\"type\"]== \"Movie\"][[\"country\"]].value_counts().head(5)\n",
        "top_5_countries_movies"
      ]
    },
    {
      "cell_type": "code",
      "execution_count": null,
      "id": "a08129d5",
      "metadata": {
        "id": "a08129d5",
        "outputId": "5ce8d1e9-0bbc-4e72-a334-266bcc5d7478"
      },
      "outputs": [
        {
          "data": {
            "text/plain": [
              "country       \n",
              "United States     841\n",
              "United Kingdom    245\n",
              "Japan             172\n",
              "South Korea       164\n",
              " United States     91\n",
              "dtype: int64"
            ]
          },
          "execution_count": 435,
          "metadata": {},
          "output_type": "execute_result"
        }
      ],
      "source": [
        "top_5_countries_tv_shows = countries[countries[\"type\"]== \"TV Show\"][[\"country\"]].value_counts().head(5)\n",
        "top_5_countries_tv_shows"
      ]
    },
    {
      "cell_type": "markdown",
      "id": "01c9a862",
      "metadata": {
        "id": "01c9a862"
      },
      "source": [
        "# 4.\tWhat is the best time to launch a TV show?"
      ]
    },
    {
      "cell_type": "code",
      "execution_count": null,
      "id": "874aa254",
      "metadata": {
        "id": "874aa254",
        "outputId": "3ae3cfc1-4080-47d0-e21d-31a227c95776"
      },
      "outputs": [
        {
          "data": {
            "text/html": [
              "<div>\n",
              "<style scoped>\n",
              "    .dataframe tbody tr th:only-of-type {\n",
              "        vertical-align: middle;\n",
              "    }\n",
              "\n",
              "    .dataframe tbody tr th {\n",
              "        vertical-align: top;\n",
              "    }\n",
              "\n",
              "    .dataframe thead th {\n",
              "        text-align: right;\n",
              "    }\n",
              "</style>\n",
              "<table border=\"1\" class=\"dataframe\">\n",
              "  <thead>\n",
              "    <tr style=\"text-align: right;\">\n",
              "      <th></th>\n",
              "      <th>show_id</th>\n",
              "      <th>type</th>\n",
              "      <th>title</th>\n",
              "      <th>director</th>\n",
              "      <th>cast</th>\n",
              "      <th>country</th>\n",
              "      <th>date_added</th>\n",
              "      <th>release_year</th>\n",
              "      <th>rating</th>\n",
              "      <th>duration</th>\n",
              "      <th>listed_in</th>\n",
              "      <th>description</th>\n",
              "      <th>added_year</th>\n",
              "    </tr>\n",
              "  </thead>\n",
              "  <tbody>\n",
              "    <tr>\n",
              "      <th>1</th>\n",
              "      <td>s2</td>\n",
              "      <td>TV Show</td>\n",
              "      <td>Blood &amp; Water</td>\n",
              "      <td>No director listed</td>\n",
              "      <td>Ama Qamata, Khosi Ngema, Gail Mabalane, Thaban...</td>\n",
              "      <td>South Africa</td>\n",
              "      <td>2021-09-24</td>\n",
              "      <td>2021</td>\n",
              "      <td>TV-MA</td>\n",
              "      <td>2 Seasons</td>\n",
              "      <td>International TV Shows, TV Dramas, TV Mysteries</td>\n",
              "      <td>After crossing paths at a party, a Cape Town t...</td>\n",
              "      <td>2021</td>\n",
              "    </tr>\n",
              "    <tr>\n",
              "      <th>2</th>\n",
              "      <td>s3</td>\n",
              "      <td>TV Show</td>\n",
              "      <td>Ganglands</td>\n",
              "      <td>Julien Leclercq</td>\n",
              "      <td>Sami Bouajila, Tracy Gotoas, Samuel Jouy, Nabi...</td>\n",
              "      <td>Unknown</td>\n",
              "      <td>2021-09-24</td>\n",
              "      <td>2021</td>\n",
              "      <td>TV-MA</td>\n",
              "      <td>1 Season</td>\n",
              "      <td>Crime TV Shows, International TV Shows, TV Act...</td>\n",
              "      <td>To protect his family from a powerful drug lor...</td>\n",
              "      <td>2021</td>\n",
              "    </tr>\n",
              "    <tr>\n",
              "      <th>3</th>\n",
              "      <td>s4</td>\n",
              "      <td>TV Show</td>\n",
              "      <td>Jailbirds New Orleans</td>\n",
              "      <td>No director listed</td>\n",
              "      <td>No cast listed</td>\n",
              "      <td>Unknown</td>\n",
              "      <td>2021-09-24</td>\n",
              "      <td>2021</td>\n",
              "      <td>TV-MA</td>\n",
              "      <td>1 Season</td>\n",
              "      <td>Docuseries, Reality TV</td>\n",
              "      <td>Feuds, flirtations and toilet talk go down amo...</td>\n",
              "      <td>2021</td>\n",
              "    </tr>\n",
              "    <tr>\n",
              "      <th>4</th>\n",
              "      <td>s5</td>\n",
              "      <td>TV Show</td>\n",
              "      <td>Kota Factory</td>\n",
              "      <td>No director listed</td>\n",
              "      <td>Mayur More, Jitendra Kumar, Ranjan Raj, Alam K...</td>\n",
              "      <td>India</td>\n",
              "      <td>2021-09-24</td>\n",
              "      <td>2021</td>\n",
              "      <td>TV-MA</td>\n",
              "      <td>2 Seasons</td>\n",
              "      <td>International TV Shows, Romantic TV Shows, TV ...</td>\n",
              "      <td>In a city of coaching centers known to train I...</td>\n",
              "      <td>2021</td>\n",
              "    </tr>\n",
              "    <tr>\n",
              "      <th>5</th>\n",
              "      <td>s6</td>\n",
              "      <td>TV Show</td>\n",
              "      <td>Midnight Mass</td>\n",
              "      <td>Mike Flanagan</td>\n",
              "      <td>Kate Siegel, Zach Gilford, Hamish Linklater, H...</td>\n",
              "      <td>Unknown</td>\n",
              "      <td>2021-09-24</td>\n",
              "      <td>2021</td>\n",
              "      <td>TV-MA</td>\n",
              "      <td>1 Season</td>\n",
              "      <td>TV Dramas, TV Horror, TV Mysteries</td>\n",
              "      <td>The arrival of a charismatic young priest brin...</td>\n",
              "      <td>2021</td>\n",
              "    </tr>\n",
              "  </tbody>\n",
              "</table>\n",
              "</div>"
            ],
            "text/plain": [
              "  show_id     type                  title            director  \\\n",
              "1      s2  TV Show          Blood & Water  No director listed   \n",
              "2      s3  TV Show              Ganglands     Julien Leclercq   \n",
              "3      s4  TV Show  Jailbirds New Orleans  No director listed   \n",
              "4      s5  TV Show           Kota Factory  No director listed   \n",
              "5      s6  TV Show          Midnight Mass       Mike Flanagan   \n",
              "\n",
              "                                                cast       country date_added  \\\n",
              "1  Ama Qamata, Khosi Ngema, Gail Mabalane, Thaban...  South Africa 2021-09-24   \n",
              "2  Sami Bouajila, Tracy Gotoas, Samuel Jouy, Nabi...       Unknown 2021-09-24   \n",
              "3                                     No cast listed       Unknown 2021-09-24   \n",
              "4  Mayur More, Jitendra Kumar, Ranjan Raj, Alam K...         India 2021-09-24   \n",
              "5  Kate Siegel, Zach Gilford, Hamish Linklater, H...       Unknown 2021-09-24   \n",
              "\n",
              "   release_year rating   duration  \\\n",
              "1          2021  TV-MA  2 Seasons   \n",
              "2          2021  TV-MA   1 Season   \n",
              "3          2021  TV-MA   1 Season   \n",
              "4          2021  TV-MA  2 Seasons   \n",
              "5          2021  TV-MA   1 Season   \n",
              "\n",
              "                                           listed_in  \\\n",
              "1    International TV Shows, TV Dramas, TV Mysteries   \n",
              "2  Crime TV Shows, International TV Shows, TV Act...   \n",
              "3                             Docuseries, Reality TV   \n",
              "4  International TV Shows, Romantic TV Shows, TV ...   \n",
              "5                 TV Dramas, TV Horror, TV Mysteries   \n",
              "\n",
              "                                         description  added_year  \n",
              "1  After crossing paths at a party, a Cape Town t...        2021  \n",
              "2  To protect his family from a powerful drug lor...        2021  \n",
              "3  Feuds, flirtations and toilet talk go down amo...        2021  \n",
              "4  In a city of coaching centers known to train I...        2021  \n",
              "5  The arrival of a charismatic young priest brin...        2021  "
            ]
          },
          "execution_count": 436,
          "metadata": {},
          "output_type": "execute_result"
        }
      ],
      "source": [
        "shows.head()"
      ]
    },
    {
      "cell_type": "code",
      "execution_count": null,
      "id": "4643d5ff",
      "metadata": {
        "id": "4643d5ff",
        "outputId": "2e31c174-9b70-48cc-bd30-a3e4d8046932"
      },
      "outputs": [
        {
          "data": {
            "image/png": "[encoded data removed]",
            "text/plain": [
              "<Figure size 1440x720 with 1 Axes>"
            ]
          },
          "metadata": {
            "needs_background": "light"
          },
          "output_type": "display_data"
        }
      ],
      "source": [
        "plt.figure(figsize=(20, 10))\n",
        "\n",
        "sns.countplot(data = shows[shows[\"release_year\"] > 1990], x = \"release_year\")\n",
        "plt.title(\"Count Plot of Total Number of tv shows per year\")\n",
        "plt.xlabel(\"Year\")\n",
        "plt.ylabel(\"Total Number\")\n",
        "plt.xticks(rotation=45)\n",
        "\n",
        "plt.show()"
      ]
    },
    {
      "cell_type": "code",
      "execution_count": null,
      "id": "c40b5dd9",
      "metadata": {
        "id": "c40b5dd9",
        "outputId": "e5ad9baf-5235-4096-d54c-62dae16ad235"
      },
      "outputs": [
        {
          "data": {
            "text/plain": [
              "Timestamp('2021-09-25 00:00:00')"
            ]
          },
          "execution_count": 438,
          "metadata": {},
          "output_type": "execute_result"
        }
      ],
      "source": [
        "df[\"date_added\"].max() # It shows that the data is incomplete for the year 2021."
      ]
    },
    {
      "cell_type": "markdown",
      "id": "cbed0e0e",
      "metadata": {
        "id": "cbed0e0e"
      },
      "source": [
        "TV shows are increasing year by year as the trend suggests as it's gaining popularity. So current time is the best time to launch a TV show\n"
      ]
    },
    {
      "cell_type": "markdown",
      "id": "9ed92dde",
      "metadata": {
        "id": "9ed92dde"
      },
      "source": [
        "# 5.\tAnalysis of actors/directors of different types of shows/movies."
      ]
    },
    {
      "cell_type": "code",
      "execution_count": null,
      "id": "2f23a079",
      "metadata": {
        "scrolled": true,
        "id": "2f23a079",
        "outputId": "ef79347e-8c44-466d-de8a-627c72497aa7"
      },
      "outputs": [
        {
          "data": {
            "text/html": [
              "<div>\n",
              "<style scoped>\n",
              "    .dataframe tbody tr th:only-of-type {\n",
              "        vertical-align: middle;\n",
              "    }\n",
              "\n",
              "    .dataframe tbody tr th {\n",
              "        vertical-align: top;\n",
              "    }\n",
              "\n",
              "    .dataframe thead th {\n",
              "        text-align: right;\n",
              "    }\n",
              "</style>\n",
              "<table border=\"1\" class=\"dataframe\">\n",
              "  <thead>\n",
              "    <tr style=\"text-align: right;\">\n",
              "      <th></th>\n",
              "      <th>show_id</th>\n",
              "      <th>type</th>\n",
              "      <th>title</th>\n",
              "      <th>director</th>\n",
              "      <th>country</th>\n",
              "      <th>date_added</th>\n",
              "      <th>release_year</th>\n",
              "      <th>rating</th>\n",
              "      <th>duration</th>\n",
              "      <th>listed_in</th>\n",
              "      <th>description</th>\n",
              "      <th>added_year</th>\n",
              "      <th>cast_name</th>\n",
              "    </tr>\n",
              "  </thead>\n",
              "  <tbody>\n",
              "    <tr>\n",
              "      <th>0</th>\n",
              "      <td>s1</td>\n",
              "      <td>Movie</td>\n",
              "      <td>Dick Johnson Is Dead</td>\n",
              "      <td>Kirsten Johnson</td>\n",
              "      <td>United States</td>\n",
              "      <td>2021-09-25</td>\n",
              "      <td>2020</td>\n",
              "      <td>PG-13</td>\n",
              "      <td>90 min</td>\n",
              "      <td>Documentaries</td>\n",
              "      <td>As her father nears the end of his life, filmm...</td>\n",
              "      <td>2021</td>\n",
              "      <td>No cast listed</td>\n",
              "    </tr>\n",
              "    <tr>\n",
              "      <th>1</th>\n",
              "      <td>s2</td>\n",
              "      <td>TV Show</td>\n",
              "      <td>Blood &amp; Water</td>\n",
              "      <td>No director listed</td>\n",
              "      <td>South Africa</td>\n",
              "      <td>2021-09-24</td>\n",
              "      <td>2021</td>\n",
              "      <td>TV-MA</td>\n",
              "      <td>2 Seasons</td>\n",
              "      <td>International TV Shows, TV Dramas, TV Mysteries</td>\n",
              "      <td>After crossing paths at a party, a Cape Town t...</td>\n",
              "      <td>2021</td>\n",
              "      <td>Ama Qamata</td>\n",
              "    </tr>\n",
              "    <tr>\n",
              "      <th>2</th>\n",
              "      <td>s2</td>\n",
              "      <td>TV Show</td>\n",
              "      <td>Blood &amp; Water</td>\n",
              "      <td>No director listed</td>\n",
              "      <td>South Africa</td>\n",
              "      <td>2021-09-24</td>\n",
              "      <td>2021</td>\n",
              "      <td>TV-MA</td>\n",
              "      <td>2 Seasons</td>\n",
              "      <td>International TV Shows, TV Dramas, TV Mysteries</td>\n",
              "      <td>After crossing paths at a party, a Cape Town t...</td>\n",
              "      <td>2021</td>\n",
              "      <td>Khosi Ngema</td>\n",
              "    </tr>\n",
              "    <tr>\n",
              "      <th>3</th>\n",
              "      <td>s2</td>\n",
              "      <td>TV Show</td>\n",
              "      <td>Blood &amp; Water</td>\n",
              "      <td>No director listed</td>\n",
              "      <td>South Africa</td>\n",
              "      <td>2021-09-24</td>\n",
              "      <td>2021</td>\n",
              "      <td>TV-MA</td>\n",
              "      <td>2 Seasons</td>\n",
              "      <td>International TV Shows, TV Dramas, TV Mysteries</td>\n",
              "      <td>After crossing paths at a party, a Cape Town t...</td>\n",
              "      <td>2021</td>\n",
              "      <td>Gail Mabalane</td>\n",
              "    </tr>\n",
              "    <tr>\n",
              "      <th>4</th>\n",
              "      <td>s2</td>\n",
              "      <td>TV Show</td>\n",
              "      <td>Blood &amp; Water</td>\n",
              "      <td>No director listed</td>\n",
              "      <td>South Africa</td>\n",
              "      <td>2021-09-24</td>\n",
              "      <td>2021</td>\n",
              "      <td>TV-MA</td>\n",
              "      <td>2 Seasons</td>\n",
              "      <td>International TV Shows, TV Dramas, TV Mysteries</td>\n",
              "      <td>After crossing paths at a party, a Cape Town t...</td>\n",
              "      <td>2021</td>\n",
              "      <td>Thabang Molaba</td>\n",
              "    </tr>\n",
              "  </tbody>\n",
              "</table>\n",
              "</div>"
            ],
            "text/plain": [
              "  show_id     type                 title            director        country  \\\n",
              "0      s1    Movie  Dick Johnson Is Dead     Kirsten Johnson  United States   \n",
              "1      s2  TV Show         Blood & Water  No director listed   South Africa   \n",
              "2      s2  TV Show         Blood & Water  No director listed   South Africa   \n",
              "3      s2  TV Show         Blood & Water  No director listed   South Africa   \n",
              "4      s2  TV Show         Blood & Water  No director listed   South Africa   \n",
              "\n",
              "  date_added  release_year rating   duration  \\\n",
              "0 2021-09-25          2020  PG-13     90 min   \n",
              "1 2021-09-24          2021  TV-MA  2 Seasons   \n",
              "2 2021-09-24          2021  TV-MA  2 Seasons   \n",
              "3 2021-09-24          2021  TV-MA  2 Seasons   \n",
              "4 2021-09-24          2021  TV-MA  2 Seasons   \n",
              "\n",
              "                                         listed_in  \\\n",
              "0                                    Documentaries   \n",
              "1  International TV Shows, TV Dramas, TV Mysteries   \n",
              "2  International TV Shows, TV Dramas, TV Mysteries   \n",
              "3  International TV Shows, TV Dramas, TV Mysteries   \n",
              "4  International TV Shows, TV Dramas, TV Mysteries   \n",
              "\n",
              "                                         description  added_year  \\\n",
              "0  As her father nears the end of his life, filmm...        2021   \n",
              "1  After crossing paths at a party, a Cape Town t...        2021   \n",
              "2  After crossing paths at a party, a Cape Town t...        2021   \n",
              "3  After crossing paths at a party, a Cape Town t...        2021   \n",
              "4  After crossing paths at a party, a Cape Town t...        2021   \n",
              "\n",
              "         cast_name  \n",
              "0   No cast listed  \n",
              "1       Ama Qamata  \n",
              "2      Khosi Ngema  \n",
              "3    Gail Mabalane  \n",
              "4   Thabang Molaba  "
            ]
          },
          "execution_count": 440,
          "metadata": {},
          "output_type": "execute_result"
        }
      ],
      "source": [
        "casts = df[df[\"cast\"]!= 0].set_index(['show_id', 'type', 'title', 'director', 'country', 'date_added',\n",
        "       'release_year', 'rating', 'duration', 'listed_in', 'description',\n",
        "       'added_year'])[\"cast\"].str.split(\",\", expand = True).stack().reset_index(name = \"cast_name\", drop = False).reset_index()\n",
        "casts[\"cast_name\"].value_counts().head()\n",
        "casts = casts[['show_id', 'type', 'title', 'director', 'country',\n",
        "       'date_added', 'release_year', 'rating', 'duration', 'listed_in',\n",
        "       'description', 'added_year', 'cast_name']]\n",
        "casts.head()"
      ]
    },
    {
      "cell_type": "code",
      "execution_count": null,
      "id": "a229b17a",
      "metadata": {
        "id": "a229b17a",
        "outputId": "30c40a2d-3ea5-4961-db4a-04250f5d3587"
      },
      "outputs": [
        {
          "data": {
            "text/plain": [
              "No cast listed       825\n",
              " Anupam Kher          39\n",
              " Rupa Bhimani         31\n",
              " Takahiro Sakurai     30\n",
              " Julie Tejwani        28\n",
              "Name: cast_name, dtype: int64"
            ]
          },
          "execution_count": 441,
          "metadata": {},
          "output_type": "execute_result"
        }
      ],
      "source": [
        "casts[\"cast_name\"].value_counts().head()"
      ]
    },
    {
      "cell_type": "code",
      "execution_count": null,
      "id": "1d3b3c74",
      "metadata": {
        "id": "1d3b3c74",
        "outputId": "7f018a70-d372-40c6-b256-eaebd605d813"
      },
      "outputs": [
        {
          "data": {
            "text/html": [
              "<div>\n",
              "<style scoped>\n",
              "    .dataframe tbody tr th:only-of-type {\n",
              "        vertical-align: middle;\n",
              "    }\n",
              "\n",
              "    .dataframe tbody tr th {\n",
              "        vertical-align: top;\n",
              "    }\n",
              "\n",
              "    .dataframe thead th {\n",
              "        text-align: right;\n",
              "    }\n",
              "</style>\n",
              "<table border=\"1\" class=\"dataframe\">\n",
              "  <thead>\n",
              "    <tr style=\"text-align: right;\">\n",
              "      <th></th>\n",
              "      <th>show_id</th>\n",
              "      <th>type</th>\n",
              "      <th>title</th>\n",
              "      <th>cast</th>\n",
              "      <th>country</th>\n",
              "      <th>date_added</th>\n",
              "      <th>release_year</th>\n",
              "      <th>rating</th>\n",
              "      <th>duration</th>\n",
              "      <th>listed_in</th>\n",
              "      <th>description</th>\n",
              "      <th>added_year</th>\n",
              "      <th>director_name</th>\n",
              "    </tr>\n",
              "  </thead>\n",
              "  <tbody>\n",
              "    <tr>\n",
              "      <th>0</th>\n",
              "      <td>s1</td>\n",
              "      <td>Movie</td>\n",
              "      <td>Dick Johnson Is Dead</td>\n",
              "      <td>No cast listed</td>\n",
              "      <td>United States</td>\n",
              "      <td>2021-09-25</td>\n",
              "      <td>2020</td>\n",
              "      <td>PG-13</td>\n",
              "      <td>90 min</td>\n",
              "      <td>Documentaries</td>\n",
              "      <td>As her father nears the end of his life, filmm...</td>\n",
              "      <td>2021</td>\n",
              "      <td>Kirsten Johnson</td>\n",
              "    </tr>\n",
              "    <tr>\n",
              "      <th>1</th>\n",
              "      <td>s2</td>\n",
              "      <td>TV Show</td>\n",
              "      <td>Blood &amp; Water</td>\n",
              "      <td>Ama Qamata, Khosi Ngema, Gail Mabalane, Thaban...</td>\n",
              "      <td>South Africa</td>\n",
              "      <td>2021-09-24</td>\n",
              "      <td>2021</td>\n",
              "      <td>TV-MA</td>\n",
              "      <td>2 Seasons</td>\n",
              "      <td>International TV Shows, TV Dramas, TV Mysteries</td>\n",
              "      <td>After crossing paths at a party, a Cape Town t...</td>\n",
              "      <td>2021</td>\n",
              "      <td>No director listed</td>\n",
              "    </tr>\n",
              "    <tr>\n",
              "      <th>2</th>\n",
              "      <td>s3</td>\n",
              "      <td>TV Show</td>\n",
              "      <td>Ganglands</td>\n",
              "      <td>Sami Bouajila, Tracy Gotoas, Samuel Jouy, Nabi...</td>\n",
              "      <td>Unknown</td>\n",
              "      <td>2021-09-24</td>\n",
              "      <td>2021</td>\n",
              "      <td>TV-MA</td>\n",
              "      <td>1 Season</td>\n",
              "      <td>Crime TV Shows, International TV Shows, TV Act...</td>\n",
              "      <td>To protect his family from a powerful drug lor...</td>\n",
              "      <td>2021</td>\n",
              "      <td>Julien Leclercq</td>\n",
              "    </tr>\n",
              "    <tr>\n",
              "      <th>3</th>\n",
              "      <td>s4</td>\n",
              "      <td>TV Show</td>\n",
              "      <td>Jailbirds New Orleans</td>\n",
              "      <td>No cast listed</td>\n",
              "      <td>Unknown</td>\n",
              "      <td>2021-09-24</td>\n",
              "      <td>2021</td>\n",
              "      <td>TV-MA</td>\n",
              "      <td>1 Season</td>\n",
              "      <td>Docuseries, Reality TV</td>\n",
              "      <td>Feuds, flirtations and toilet talk go down amo...</td>\n",
              "      <td>2021</td>\n",
              "      <td>No director listed</td>\n",
              "    </tr>\n",
              "    <tr>\n",
              "      <th>4</th>\n",
              "      <td>s5</td>\n",
              "      <td>TV Show</td>\n",
              "      <td>Kota Factory</td>\n",
              "      <td>Mayur More, Jitendra Kumar, Ranjan Raj, Alam K...</td>\n",
              "      <td>India</td>\n",
              "      <td>2021-09-24</td>\n",
              "      <td>2021</td>\n",
              "      <td>TV-MA</td>\n",
              "      <td>2 Seasons</td>\n",
              "      <td>International TV Shows, Romantic TV Shows, TV ...</td>\n",
              "      <td>In a city of coaching centers known to train I...</td>\n",
              "      <td>2021</td>\n",
              "      <td>No director listed</td>\n",
              "    </tr>\n",
              "  </tbody>\n",
              "</table>\n",
              "</div>"
            ],
            "text/plain": [
              "  show_id     type                  title  \\\n",
              "0      s1    Movie   Dick Johnson Is Dead   \n",
              "1      s2  TV Show          Blood & Water   \n",
              "2      s3  TV Show              Ganglands   \n",
              "3      s4  TV Show  Jailbirds New Orleans   \n",
              "4      s5  TV Show           Kota Factory   \n",
              "\n",
              "                                                cast        country  \\\n",
              "0                                     No cast listed  United States   \n",
              "1  Ama Qamata, Khosi Ngema, Gail Mabalane, Thaban...   South Africa   \n",
              "2  Sami Bouajila, Tracy Gotoas, Samuel Jouy, Nabi...        Unknown   \n",
              "3                                     No cast listed        Unknown   \n",
              "4  Mayur More, Jitendra Kumar, Ranjan Raj, Alam K...          India   \n",
              "\n",
              "  date_added  release_year rating   duration  \\\n",
              "0 2021-09-25          2020  PG-13     90 min   \n",
              "1 2021-09-24          2021  TV-MA  2 Seasons   \n",
              "2 2021-09-24          2021  TV-MA   1 Season   \n",
              "3 2021-09-24          2021  TV-MA   1 Season   \n",
              "4 2021-09-24          2021  TV-MA  2 Seasons   \n",
              "\n",
              "                                           listed_in  \\\n",
              "0                                      Documentaries   \n",
              "1    International TV Shows, TV Dramas, TV Mysteries   \n",
              "2  Crime TV Shows, International TV Shows, TV Act...   \n",
              "3                             Docuseries, Reality TV   \n",
              "4  International TV Shows, Romantic TV Shows, TV ...   \n",
              "\n",
              "                                         description  added_year  \\\n",
              "0  As her father nears the end of his life, filmm...        2021   \n",
              "1  After crossing paths at a party, a Cape Town t...        2021   \n",
              "2  To protect his family from a powerful drug lor...        2021   \n",
              "3  Feuds, flirtations and toilet talk go down amo...        2021   \n",
              "4  In a city of coaching centers known to train I...        2021   \n",
              "\n",
              "        director_name  \n",
              "0     Kirsten Johnson  \n",
              "1  No director listed  \n",
              "2     Julien Leclercq  \n",
              "3  No director listed  \n",
              "4  No director listed  "
            ]
          },
          "execution_count": 442,
          "metadata": {},
          "output_type": "execute_result"
        }
      ],
      "source": [
        "directors = df[df[\"director\"] != 0].set_index(['show_id', 'type', 'title', 'cast', 'country', 'date_added',\n",
        "       'release_year', 'rating', 'duration', 'listed_in', 'description',\n",
        "       'added_year'])[\"director\"].str.split(\",\", expand = True).stack().reset_index(name=\"director_name\", drop = False).reset_index()\n",
        "directors[\"director_name\"].value_counts().head()\n",
        "directors = directors[['show_id', 'type', 'title', 'cast', 'country', 'date_added',\n",
        "       'release_year', 'rating', 'duration', 'listed_in', 'description',\n",
        "       'added_year', 'director_name']]\n",
        "directors.head()"
      ]
    },
    {
      "cell_type": "code",
      "execution_count": null,
      "id": "c8a27e5c",
      "metadata": {
        "id": "c8a27e5c",
        "outputId": "1187d50b-35c1-499a-e5a6-6ccdb48bc9e6"
      },
      "outputs": [
        {
          "data": {
            "text/plain": [
              "No director listed    2621\n",
              "Rajiv Chilaka           22\n",
              "Raúl Campos             18\n",
              " Jan Suter              18\n",
              "Marcus Raboy            16\n",
              "Name: director_name, dtype: int64"
            ]
          },
          "execution_count": 443,
          "metadata": {},
          "output_type": "execute_result"
        }
      ],
      "source": [
        "directors[\"director_name\"].value_counts().head()"
      ]
    },
    {
      "cell_type": "markdown",
      "id": "f8cd5375",
      "metadata": {
        "id": "f8cd5375"
      },
      "source": [
        "# 6.\tDoes Netflix has more focus on TV Shows than movies in recent years"
      ]
    },
    {
      "cell_type": "code",
      "execution_count": null,
      "id": "6df1f4d5",
      "metadata": {
        "id": "6df1f4d5",
        "outputId": "0bd66fec-8cee-4213-a552-48347bc59be9"
      },
      "outputs": [
        {
          "data": {
            "text/plain": [
              "2008"
            ]
          },
          "execution_count": 444,
          "metadata": {},
          "output_type": "execute_result"
        }
      ],
      "source": [
        "df[\"added_year\"].min()"
      ]
    },
    {
      "cell_type": "code",
      "execution_count": null,
      "id": "0556b785",
      "metadata": {
        "id": "0556b785",
        "outputId": "36a3131f-2513-47b3-ac58-a1570e62dcec"
      },
      "outputs": [
        {
          "data": {
            "image/png": "[encoded data removed]",
            "text/plain": [
              "<Figure size 1440x576 with 1 Axes>"
            ]
          },
          "metadata": {
            "needs_background": "light"
          },
          "output_type": "display_data"
        }
      ],
      "source": [
        "plt.figure(figsize=(20, 8))\n",
        "\n",
        "sns.countplot(data = df, x = \"added_year\", hue = \"type\")\n",
        "plt.title(\"Count Plot of Total Number of movies vs. tv shows per year\")\n",
        "plt.xlabel(\"Year added\")\n",
        "plt.ylabel(\"Total Number\")\n",
        "plt.xticks(rotation=45)\n",
        "plt.legend(loc='upper left')\n",
        "\n",
        "plt.show()\n"
      ]
    },
    {
      "cell_type": "code",
      "execution_count": null,
      "id": "9fac6d95",
      "metadata": {
        "scrolled": true,
        "id": "9fac6d95",
        "outputId": "3851eefe-0bcc-4fda-ce56-546bbf698fc0"
      },
      "outputs": [
        {
          "data": {
            "text/html": [
              "<div>\n",
              "<style scoped>\n",
              "    .dataframe tbody tr th:only-of-type {\n",
              "        vertical-align: middle;\n",
              "    }\n",
              "\n",
              "    .dataframe tbody tr th {\n",
              "        vertical-align: top;\n",
              "    }\n",
              "\n",
              "    .dataframe thead th {\n",
              "        text-align: right;\n",
              "    }\n",
              "</style>\n",
              "<table border=\"1\" class=\"dataframe\">\n",
              "  <thead>\n",
              "    <tr style=\"text-align: right;\">\n",
              "      <th></th>\n",
              "      <th>added_year</th>\n",
              "      <th>type</th>\n",
              "      <th>count</th>\n",
              "    </tr>\n",
              "  </thead>\n",
              "  <tbody>\n",
              "    <tr>\n",
              "      <th>23</th>\n",
              "      <td>2021</td>\n",
              "      <td>TV Show</td>\n",
              "      <td>505</td>\n",
              "    </tr>\n",
              "    <tr>\n",
              "      <th>22</th>\n",
              "      <td>2021</td>\n",
              "      <td>Movie</td>\n",
              "      <td>993</td>\n",
              "    </tr>\n",
              "    <tr>\n",
              "      <th>21</th>\n",
              "      <td>2020</td>\n",
              "      <td>TV Show</td>\n",
              "      <td>595</td>\n",
              "    </tr>\n",
              "    <tr>\n",
              "      <th>20</th>\n",
              "      <td>2020</td>\n",
              "      <td>Movie</td>\n",
              "      <td>1284</td>\n",
              "    </tr>\n",
              "    <tr>\n",
              "      <th>19</th>\n",
              "      <td>2019</td>\n",
              "      <td>TV Show</td>\n",
              "      <td>592</td>\n",
              "    </tr>\n",
              "  </tbody>\n",
              "</table>\n",
              "</div>"
            ],
            "text/plain": [
              "    added_year     type  count\n",
              "23        2021  TV Show    505\n",
              "22        2021    Movie    993\n",
              "21        2020  TV Show    595\n",
              "20        2020    Movie   1284\n",
              "19        2019  TV Show    592"
            ]
          },
          "execution_count": 446,
          "metadata": {},
          "output_type": "execute_result"
        }
      ],
      "source": [
        "grouped_df = df.groupby([\"added_year\", \"type\"]).size().reset_index(name=\"count\").sort_values(by = \"added_year\", ascending = False)\n",
        "grouped_df.head()"
      ]
    },
    {
      "cell_type": "markdown",
      "id": "4fdafa1c",
      "metadata": {
        "id": "4fdafa1c"
      },
      "source": [
        "Trend shows that Netflix have started adding more TV shows which is in line with the increasing releases of the TV shows. We don’t have complete data for the 2021, but still, it’s comparatively on par with the 2020 TV shows. Hence, we can assume that by the end of the year, it close to 2020 total number of TV shows or even surpass it just like previous years. Increasing popularity of TV shows ."
      ]
    },
    {
      "cell_type": "markdown",
      "id": "24f848c9",
      "metadata": {
        "id": "24f848c9"
      },
      "source": [
        "# 7. Understanding what content is available in different countries"
      ]
    },
    {
      "cell_type": "code",
      "execution_count": null,
      "id": "92c739a2",
      "metadata": {
        "id": "92c739a2",
        "outputId": "0e731fc5-2649-4b31-96b0-9263cbd59c30"
      },
      "outputs": [
        {
          "data": {
            "text/html": [
              "<div>\n",
              "<style scoped>\n",
              "    .dataframe tbody tr th:only-of-type {\n",
              "        vertical-align: middle;\n",
              "    }\n",
              "\n",
              "    .dataframe tbody tr th {\n",
              "        vertical-align: top;\n",
              "    }\n",
              "\n",
              "    .dataframe thead th {\n",
              "        text-align: right;\n",
              "    }\n",
              "</style>\n",
              "<table border=\"1\" class=\"dataframe\">\n",
              "  <thead>\n",
              "    <tr style=\"text-align: right;\">\n",
              "      <th></th>\n",
              "      <th>show_id</th>\n",
              "      <th>type</th>\n",
              "      <th>title</th>\n",
              "      <th>director</th>\n",
              "      <th>cast</th>\n",
              "      <th>country</th>\n",
              "      <th>date_added</th>\n",
              "      <th>release_year</th>\n",
              "      <th>rating</th>\n",
              "      <th>duration</th>\n",
              "      <th>description</th>\n",
              "      <th>added_year</th>\n",
              "      <th>genre</th>\n",
              "    </tr>\n",
              "  </thead>\n",
              "  <tbody>\n",
              "    <tr>\n",
              "      <th>0</th>\n",
              "      <td>s1</td>\n",
              "      <td>Movie</td>\n",
              "      <td>Dick Johnson Is Dead</td>\n",
              "      <td>Kirsten Johnson</td>\n",
              "      <td>No cast listed</td>\n",
              "      <td>United States</td>\n",
              "      <td>2021-09-25</td>\n",
              "      <td>2020</td>\n",
              "      <td>PG-13</td>\n",
              "      <td>90 min</td>\n",
              "      <td>As her father nears the end of his life, filmm...</td>\n",
              "      <td>2021</td>\n",
              "      <td>Documentaries</td>\n",
              "    </tr>\n",
              "    <tr>\n",
              "      <th>1</th>\n",
              "      <td>s2</td>\n",
              "      <td>TV Show</td>\n",
              "      <td>Blood &amp; Water</td>\n",
              "      <td>No director listed</td>\n",
              "      <td>Ama Qamata, Khosi Ngema, Gail Mabalane, Thaban...</td>\n",
              "      <td>South Africa</td>\n",
              "      <td>2021-09-24</td>\n",
              "      <td>2021</td>\n",
              "      <td>TV-MA</td>\n",
              "      <td>2 Seasons</td>\n",
              "      <td>After crossing paths at a party, a Cape Town t...</td>\n",
              "      <td>2021</td>\n",
              "      <td>International TV Shows</td>\n",
              "    </tr>\n",
              "    <tr>\n",
              "      <th>2</th>\n",
              "      <td>s2</td>\n",
              "      <td>TV Show</td>\n",
              "      <td>Blood &amp; Water</td>\n",
              "      <td>No director listed</td>\n",
              "      <td>Ama Qamata, Khosi Ngema, Gail Mabalane, Thaban...</td>\n",
              "      <td>South Africa</td>\n",
              "      <td>2021-09-24</td>\n",
              "      <td>2021</td>\n",
              "      <td>TV-MA</td>\n",
              "      <td>2 Seasons</td>\n",
              "      <td>After crossing paths at a party, a Cape Town t...</td>\n",
              "      <td>2021</td>\n",
              "      <td>TV Dramas</td>\n",
              "    </tr>\n",
              "    <tr>\n",
              "      <th>3</th>\n",
              "      <td>s2</td>\n",
              "      <td>TV Show</td>\n",
              "      <td>Blood &amp; Water</td>\n",
              "      <td>No director listed</td>\n",
              "      <td>Ama Qamata, Khosi Ngema, Gail Mabalane, Thaban...</td>\n",
              "      <td>South Africa</td>\n",
              "      <td>2021-09-24</td>\n",
              "      <td>2021</td>\n",
              "      <td>TV-MA</td>\n",
              "      <td>2 Seasons</td>\n",
              "      <td>After crossing paths at a party, a Cape Town t...</td>\n",
              "      <td>2021</td>\n",
              "      <td>TV Mysteries</td>\n",
              "    </tr>\n",
              "    <tr>\n",
              "      <th>4</th>\n",
              "      <td>s3</td>\n",
              "      <td>TV Show</td>\n",
              "      <td>Ganglands</td>\n",
              "      <td>Julien Leclercq</td>\n",
              "      <td>Sami Bouajila, Tracy Gotoas, Samuel Jouy, Nabi...</td>\n",
              "      <td>Unknown</td>\n",
              "      <td>2021-09-24</td>\n",
              "      <td>2021</td>\n",
              "      <td>TV-MA</td>\n",
              "      <td>1 Season</td>\n",
              "      <td>To protect his family from a powerful drug lor...</td>\n",
              "      <td>2021</td>\n",
              "      <td>Crime TV Shows</td>\n",
              "    </tr>\n",
              "  </tbody>\n",
              "</table>\n",
              "</div>"
            ],
            "text/plain": [
              "  show_id     type                 title            director  \\\n",
              "0      s1    Movie  Dick Johnson Is Dead     Kirsten Johnson   \n",
              "1      s2  TV Show         Blood & Water  No director listed   \n",
              "2      s2  TV Show         Blood & Water  No director listed   \n",
              "3      s2  TV Show         Blood & Water  No director listed   \n",
              "4      s3  TV Show             Ganglands     Julien Leclercq   \n",
              "\n",
              "                                                cast        country  \\\n",
              "0                                     No cast listed  United States   \n",
              "1  Ama Qamata, Khosi Ngema, Gail Mabalane, Thaban...   South Africa   \n",
              "2  Ama Qamata, Khosi Ngema, Gail Mabalane, Thaban...   South Africa   \n",
              "3  Ama Qamata, Khosi Ngema, Gail Mabalane, Thaban...   South Africa   \n",
              "4  Sami Bouajila, Tracy Gotoas, Samuel Jouy, Nabi...        Unknown   \n",
              "\n",
              "  date_added  release_year rating   duration  \\\n",
              "0 2021-09-25          2020  PG-13     90 min   \n",
              "1 2021-09-24          2021  TV-MA  2 Seasons   \n",
              "2 2021-09-24          2021  TV-MA  2 Seasons   \n",
              "3 2021-09-24          2021  TV-MA  2 Seasons   \n",
              "4 2021-09-24          2021  TV-MA   1 Season   \n",
              "\n",
              "                                         description  added_year  \\\n",
              "0  As her father nears the end of his life, filmm...        2021   \n",
              "1  After crossing paths at a party, a Cape Town t...        2021   \n",
              "2  After crossing paths at a party, a Cape Town t...        2021   \n",
              "3  After crossing paths at a party, a Cape Town t...        2021   \n",
              "4  To protect his family from a powerful drug lor...        2021   \n",
              "\n",
              "                    genre  \n",
              "0           Documentaries  \n",
              "1  International TV Shows  \n",
              "2               TV Dramas  \n",
              "3            TV Mysteries  \n",
              "4          Crime TV Shows  "
            ]
          },
          "execution_count": 447,
          "metadata": {},
          "output_type": "execute_result"
        }
      ],
      "source": [
        "genre.head()"
      ]
    },
    {
      "cell_type": "code",
      "execution_count": null,
      "id": "6eb95cb1",
      "metadata": {
        "id": "6eb95cb1",
        "outputId": "524c6862-d747-4da9-a033-22b5803505e9"
      },
      "outputs": [
        {
          "data": {
            "text/html": [
              "<div>\n",
              "<style scoped>\n",
              "    .dataframe tbody tr th:only-of-type {\n",
              "        vertical-align: middle;\n",
              "    }\n",
              "\n",
              "    .dataframe tbody tr th {\n",
              "        vertical-align: top;\n",
              "    }\n",
              "\n",
              "    .dataframe thead th {\n",
              "        text-align: right;\n",
              "    }\n",
              "</style>\n",
              "<table border=\"1\" class=\"dataframe\">\n",
              "  <thead>\n",
              "    <tr style=\"text-align: right;\">\n",
              "      <th></th>\n",
              "      <th>show_id</th>\n",
              "      <th>type</th>\n",
              "      <th>title</th>\n",
              "      <th>director</th>\n",
              "      <th>cast</th>\n",
              "      <th>date_added</th>\n",
              "      <th>release_year</th>\n",
              "      <th>rating</th>\n",
              "      <th>duration</th>\n",
              "      <th>description</th>\n",
              "      <th>added_year</th>\n",
              "      <th>genre</th>\n",
              "      <th>country</th>\n",
              "    </tr>\n",
              "  </thead>\n",
              "  <tbody>\n",
              "    <tr>\n",
              "      <th>0</th>\n",
              "      <td>s1</td>\n",
              "      <td>Movie</td>\n",
              "      <td>Dick Johnson Is Dead</td>\n",
              "      <td>Kirsten Johnson</td>\n",
              "      <td>No cast listed</td>\n",
              "      <td>2021-09-25</td>\n",
              "      <td>2020</td>\n",
              "      <td>PG-13</td>\n",
              "      <td>90 min</td>\n",
              "      <td>As her father nears the end of his life, filmm...</td>\n",
              "      <td>2021</td>\n",
              "      <td>Documentaries</td>\n",
              "      <td>United States</td>\n",
              "    </tr>\n",
              "    <tr>\n",
              "      <th>1</th>\n",
              "      <td>s2</td>\n",
              "      <td>TV Show</td>\n",
              "      <td>Blood &amp; Water</td>\n",
              "      <td>No director listed</td>\n",
              "      <td>Ama Qamata, Khosi Ngema, Gail Mabalane, Thaban...</td>\n",
              "      <td>2021-09-24</td>\n",
              "      <td>2021</td>\n",
              "      <td>TV-MA</td>\n",
              "      <td>2 Seasons</td>\n",
              "      <td>After crossing paths at a party, a Cape Town t...</td>\n",
              "      <td>2021</td>\n",
              "      <td>International TV Shows</td>\n",
              "      <td>South Africa</td>\n",
              "    </tr>\n",
              "    <tr>\n",
              "      <th>2</th>\n",
              "      <td>s2</td>\n",
              "      <td>TV Show</td>\n",
              "      <td>Blood &amp; Water</td>\n",
              "      <td>No director listed</td>\n",
              "      <td>Ama Qamata, Khosi Ngema, Gail Mabalane, Thaban...</td>\n",
              "      <td>2021-09-24</td>\n",
              "      <td>2021</td>\n",
              "      <td>TV-MA</td>\n",
              "      <td>2 Seasons</td>\n",
              "      <td>After crossing paths at a party, a Cape Town t...</td>\n",
              "      <td>2021</td>\n",
              "      <td>TV Dramas</td>\n",
              "      <td>South Africa</td>\n",
              "    </tr>\n",
              "    <tr>\n",
              "      <th>3</th>\n",
              "      <td>s2</td>\n",
              "      <td>TV Show</td>\n",
              "      <td>Blood &amp; Water</td>\n",
              "      <td>No director listed</td>\n",
              "      <td>Ama Qamata, Khosi Ngema, Gail Mabalane, Thaban...</td>\n",
              "      <td>2021-09-24</td>\n",
              "      <td>2021</td>\n",
              "      <td>TV-MA</td>\n",
              "      <td>2 Seasons</td>\n",
              "      <td>After crossing paths at a party, a Cape Town t...</td>\n",
              "      <td>2021</td>\n",
              "      <td>TV Mysteries</td>\n",
              "      <td>South Africa</td>\n",
              "    </tr>\n",
              "    <tr>\n",
              "      <th>4</th>\n",
              "      <td>s5</td>\n",
              "      <td>TV Show</td>\n",
              "      <td>Kota Factory</td>\n",
              "      <td>No director listed</td>\n",
              "      <td>Mayur More, Jitendra Kumar, Ranjan Raj, Alam K...</td>\n",
              "      <td>2021-09-24</td>\n",
              "      <td>2021</td>\n",
              "      <td>TV-MA</td>\n",
              "      <td>2 Seasons</td>\n",
              "      <td>In a city of coaching centers known to train I...</td>\n",
              "      <td>2021</td>\n",
              "      <td>International TV Shows</td>\n",
              "      <td>India</td>\n",
              "    </tr>\n",
              "  </tbody>\n",
              "</table>\n",
              "</div>"
            ],
            "text/plain": [
              "  show_id     type                 title            director  \\\n",
              "0      s1    Movie  Dick Johnson Is Dead     Kirsten Johnson   \n",
              "1      s2  TV Show         Blood & Water  No director listed   \n",
              "2      s2  TV Show         Blood & Water  No director listed   \n",
              "3      s2  TV Show         Blood & Water  No director listed   \n",
              "4      s5  TV Show          Kota Factory  No director listed   \n",
              "\n",
              "                                                cast date_added  release_year  \\\n",
              "0                                     No cast listed 2021-09-25          2020   \n",
              "1  Ama Qamata, Khosi Ngema, Gail Mabalane, Thaban... 2021-09-24          2021   \n",
              "2  Ama Qamata, Khosi Ngema, Gail Mabalane, Thaban... 2021-09-24          2021   \n",
              "3  Ama Qamata, Khosi Ngema, Gail Mabalane, Thaban... 2021-09-24          2021   \n",
              "4  Mayur More, Jitendra Kumar, Ranjan Raj, Alam K... 2021-09-24          2021   \n",
              "\n",
              "  rating   duration                                        description  \\\n",
              "0  PG-13     90 min  As her father nears the end of his life, filmm...   \n",
              "1  TV-MA  2 Seasons  After crossing paths at a party, a Cape Town t...   \n",
              "2  TV-MA  2 Seasons  After crossing paths at a party, a Cape Town t...   \n",
              "3  TV-MA  2 Seasons  After crossing paths at a party, a Cape Town t...   \n",
              "4  TV-MA  2 Seasons  In a city of coaching centers known to train I...   \n",
              "\n",
              "   added_year                   genre        country  \n",
              "0        2021           Documentaries  United States  \n",
              "1        2021  International TV Shows   South Africa  \n",
              "2        2021               TV Dramas   South Africa  \n",
              "3        2021            TV Mysteries   South Africa  \n",
              "4        2021  International TV Shows          India  "
            ]
          },
          "execution_count": 455,
          "metadata": {},
          "output_type": "execute_result"
        }
      ],
      "source": [
        "countries_genre = genre[genre[\"country\"]!= \"Unknown\"].set_index(['show_id', 'type', 'title', 'director', 'cast', 'date_added',\n",
        "       'release_year', 'rating', 'duration', 'description', 'added_year', \"genre\"])[\"country\"].str.split(\",\", expand = True).stack().reset_index(name = \"country\",drop = False).reset_index()\n",
        "countries_genre = countries_genre[['show_id', 'type', 'title', 'director', 'cast', 'date_added',\n",
        "       'release_year', 'rating', 'duration', 'description', 'added_year',\n",
        "       'genre', 'country']]\n",
        "countries_genre.head()"
      ]
    },
    {
      "cell_type": "code",
      "execution_count": null,
      "id": "f6d3c1ed",
      "metadata": {
        "id": "f6d3c1ed",
        "outputId": "43571d02-3259-468d-ceb3-9e57fa01c124"
      },
      "outputs": [
        {
          "data": {
            "text/html": [
              "<div>\n",
              "<style scoped>\n",
              "    .dataframe tbody tr th:only-of-type {\n",
              "        vertical-align: middle;\n",
              "    }\n",
              "\n",
              "    .dataframe tbody tr th {\n",
              "        vertical-align: top;\n",
              "    }\n",
              "\n",
              "    .dataframe thead th {\n",
              "        text-align: right;\n",
              "    }\n",
              "</style>\n",
              "<table border=\"1\" class=\"dataframe\">\n",
              "  <thead>\n",
              "    <tr style=\"text-align: right;\">\n",
              "      <th></th>\n",
              "      <th>country</th>\n",
              "      <th>genre</th>\n",
              "      <th>count</th>\n",
              "    </tr>\n",
              "  </thead>\n",
              "  <tbody>\n",
              "    <tr>\n",
              "      <th>1547</th>\n",
              "      <td>India</td>\n",
              "      <td>International Movies</td>\n",
              "      <td>807</td>\n",
              "    </tr>\n",
              "    <tr>\n",
              "      <th>2391</th>\n",
              "      <td>United States</td>\n",
              "      <td>Dramas</td>\n",
              "      <td>429</td>\n",
              "    </tr>\n",
              "    <tr>\n",
              "      <th>2389</th>\n",
              "      <td>United States</td>\n",
              "      <td>Documentaries</td>\n",
              "      <td>429</td>\n",
              "    </tr>\n",
              "    <tr>\n",
              "      <th>1575</th>\n",
              "      <td>India</td>\n",
              "      <td>Dramas</td>\n",
              "      <td>404</td>\n",
              "    </tr>\n",
              "    <tr>\n",
              "      <th>2386</th>\n",
              "      <td>United States</td>\n",
              "      <td>Comedies</td>\n",
              "      <td>374</td>\n",
              "    </tr>\n",
              "    <tr>\n",
              "      <th>2379</th>\n",
              "      <td>United States</td>\n",
              "      <td>Action &amp; Adventure</td>\n",
              "      <td>323</td>\n",
              "    </tr>\n",
              "    <tr>\n",
              "      <th>2383</th>\n",
              "      <td>United States</td>\n",
              "      <td>Children &amp; Family Movies</td>\n",
              "      <td>320</td>\n",
              "    </tr>\n",
              "    <tr>\n",
              "      <th>2354</th>\n",
              "      <td>United States</td>\n",
              "      <td>Independent Movies</td>\n",
              "      <td>318</td>\n",
              "    </tr>\n",
              "    <tr>\n",
              "      <th>1570</th>\n",
              "      <td>India</td>\n",
              "      <td>Comedies</td>\n",
              "      <td>267</td>\n",
              "    </tr>\n",
              "    <tr>\n",
              "      <th>2351</th>\n",
              "      <td>United States</td>\n",
              "      <td>Dramas</td>\n",
              "      <td>245</td>\n",
              "    </tr>\n",
              "  </tbody>\n",
              "</table>\n",
              "</div>"
            ],
            "text/plain": [
              "            country                     genre  count\n",
              "1547          India      International Movies    807\n",
              "2391  United States                    Dramas    429\n",
              "2389  United States             Documentaries    429\n",
              "1575          India                    Dramas    404\n",
              "2386  United States                  Comedies    374\n",
              "2379  United States        Action & Adventure    323\n",
              "2383  United States  Children & Family Movies    320\n",
              "2354  United States        Independent Movies    318\n",
              "1570          India                  Comedies    267\n",
              "2351  United States                    Dramas    245"
            ]
          },
          "execution_count": 512,
          "metadata": {},
          "output_type": "execute_result"
        }
      ],
      "source": [
        "grouped_genre = countries_genre.groupby([\"country\", \"genre\"]).size().reset_index(name=\"count\").sort_values(by=\"count\", ascending=False)\n",
        "grouped_genre.head(10)"
      ]
    },
    {
      "cell_type": "code",
      "execution_count": null,
      "id": "e19113c4",
      "metadata": {
        "id": "e19113c4"
      },
      "outputs": [],
      "source": []
    },
    {
      "cell_type": "code",
      "execution_count": null,
      "id": "519374eb",
      "metadata": {
        "scrolled": true,
        "id": "519374eb",
        "outputId": "8dec7e80-3655-4f78-ae78-b9781eba3963"
      },
      "outputs": [
        {
          "data": {
            "text/plain": [
              "country         rating\n",
              "United States   TV-MA     985\n",
              "India           TV-14     563\n",
              "United States   R         536\n",
              "                TV-14     437\n",
              "                PG-13     362\n",
              "                TV-PG     272\n",
              "India           TV-MA     260\n",
              "United Kingdom  TV-MA     224\n",
              "United States   PG        211\n",
              "Spain           TV-MA     143\n",
              "dtype: int64"
            ]
          },
          "execution_count": 511,
          "metadata": {},
          "output_type": "execute_result"
        }
      ],
      "source": [
        "countries[[\"country\",\"rating\"]].value_counts().head(10)"
      ]
    },
    {
      "cell_type": "code",
      "execution_count": null,
      "id": "0d6880df",
      "metadata": {
        "scrolled": true,
        "id": "0d6880df",
        "outputId": "ac3c0a6a-b325-4e8b-f4a5-b4b3b44b50d7"
      },
      "outputs": [
        {
          "data": {
            "text/plain": [
              "country        rating\n",
              "United States  TV-MA     645\n",
              "India          TV-14     539\n",
              "United States  R         536\n",
              "               PG-13     362\n",
              "               TV-14     231\n",
              "                        ... \n",
              "Greece         TV-MA       1\n",
              " New Zealand   NR          1\n",
              "Germany        TV-Y7       1\n",
              "               TV-Y        1\n",
              "Zimbabwe       TV-G        1\n",
              "Length: 701, dtype: int64"
            ]
          },
          "execution_count": 508,
          "metadata": {},
          "output_type": "execute_result"
        }
      ],
      "source": [
        "movie_rating = countries[countries[\"type\"] == \"Movie\"][[\"country\",\"rating\"]].value_counts()\n",
        "movie_rating"
      ]
    },
    {
      "cell_type": "code",
      "execution_count": null,
      "id": "61dc2316",
      "metadata": {
        "scrolled": true,
        "id": "61dc2316",
        "outputId": "e2f4d20e-4a1d-4575-b42a-9e7cc7e6e71d"
      },
      "outputs": [
        {
          "data": {
            "text/plain": [
              "country         rating\n",
              "United States   TV-MA     340\n",
              "                TV-14     206\n",
              "                TV-PG     111\n",
              "United Kingdom  TV-MA     105\n",
              "United States   TV-Y7      81\n",
              "                         ... \n",
              "Argentina       TV-PG       1\n",
              "Australia       TV-Y7       1\n",
              "Austria         TV-MA       1\n",
              "Belarus         TV-Y        1\n",
              "Uruguay         TV-G        1\n",
              "Length: 272, dtype: int64"
            ]
          },
          "execution_count": 509,
          "metadata": {},
          "output_type": "execute_result"
        }
      ],
      "source": [
        "shows_rating = countries[countries[\"type\"] == \"TV Show\"][[\"country\",\"rating\"]].value_counts()\n",
        "shows_rating"
      ]
    },
    {
      "cell_type": "markdown",
      "id": "2d5cfc0c",
      "metadata": {
        "id": "2d5cfc0c"
      },
      "source": [
        "TV-MA, TV-PG rated content which is for the Mature Audiences, is available in the database in large number independent of the country and type of content(movie or tv show)."
      ]
    }
  ],
  "metadata": {
    "kernelspec": {
      "display_name": "Python 3",
      "language": "python",
      "name": "python3"
    },
    "language_info": {
      "codemirror_mode": {
        "name": "ipython",
        "version": 3
      },
      "file_extension": ".py",
      "mimetype": "text/x-python",
      "name": "python",
      "nbconvert_exporter": "python",
      "pygments_lexer": "ipython3",
      "version": "3.8.8"
    },
    "colab": {
      "provenance": []
    }
  },
  "nbformat": 4,
  "nbformat_minor": 5
}